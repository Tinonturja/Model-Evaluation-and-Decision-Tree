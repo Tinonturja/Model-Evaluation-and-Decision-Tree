{
  "nbformat": 4,
  "nbformat_minor": 0,
  "metadata": {
    "colab": {
      "provenance": [],
      "authorship_tag": "ABX9TyOs/e0SrCch0WVLqo1HOVMH",
      "include_colab_link": true
    },
    "kernelspec": {
      "name": "python3",
      "display_name": "Python 3"
    },
    "language_info": {
      "name": "python"
    }
  },
  "cells": [
    {
      "cell_type": "markdown",
      "metadata": {
        "id": "view-in-github",
        "colab_type": "text"
      },
      "source": [
        "<a href=\"https://colab.research.google.com/github/Tinonturja/Model-Evaluation-and-Decision-Tree/blob/master/pytorch_fundamentals.ipynb\" target=\"_parent\"><img src=\"https://colab.research.google.com/assets/colab-badge.svg\" alt=\"Open In Colab\"/></a>"
      ]
    },
    {
      "cell_type": "code",
      "execution_count": 2,
      "metadata": {
        "colab": {
          "base_uri": "https://localhost:8080/"
        },
        "id": "YXFTt8Anx3aE",
        "outputId": "5d049899-8bb8-4a65-d02f-fae4a22e11b3"
      },
      "outputs": [
        {
          "output_type": "stream",
          "name": "stdout",
          "text": [
            "hello I am excited to start learning pytorch\n"
          ]
        }
      ],
      "source": [
        "print(\"hello I am excited to start learning pytorch\")"
      ]
    },
    {
      "cell_type": "code",
      "source": [
        "print(\"start our code now\")"
      ],
      "metadata": {
        "colab": {
          "base_uri": "https://localhost:8080/"
        },
        "id": "93Pad_UvyJTE",
        "outputId": "920429de-63a3-445c-e2b9-bae00c2ffbe4"
      },
      "execution_count": 3,
      "outputs": [
        {
          "output_type": "stream",
          "name": "stdout",
          "text": [
            "start our code now\n"
          ]
        }
      ]
    },
    {
      "cell_type": "code",
      "source": [
        "!nvidia-smi"
      ],
      "metadata": {
        "colab": {
          "base_uri": "https://localhost:8080/"
        },
        "id": "RBE4tZtwye2G",
        "outputId": "89128cba-1524-4a70-d543-3f3228678880"
      },
      "execution_count": 4,
      "outputs": [
        {
          "output_type": "stream",
          "name": "stdout",
          "text": [
            "/bin/bash: line 1: nvidia-smi: command not found\n"
          ]
        }
      ]
    },
    {
      "cell_type": "code",
      "source": [
        " import torch\n",
        " import pandas as pd\n",
        " import numpy as np\n",
        " import matplotlib.pyplot as plt\n",
        " print(torch.__version__)"
      ],
      "metadata": {
        "colab": {
          "base_uri": "https://localhost:8080/"
        },
        "id": "FPeNWi5iymX-",
        "outputId": "ac3981b8-b5ba-45dd-8a8b-7035e2fdc82b"
      },
      "execution_count": 5,
      "outputs": [
        {
          "output_type": "stream",
          "name": "stdout",
          "text": [
            "2.5.1+cu124\n"
          ]
        }
      ]
    },
    {
      "cell_type": "markdown",
      "source": [
        "#**Introduction to Tensors**"
      ],
      "metadata": {
        "id": "m_fgM85i0Vfs"
      }
    },
    {
      "cell_type": "markdown",
      "source": [
        "###Creating Tensors"
      ],
      "metadata": {
        "id": "P3b4Jg7U0pFX"
      }
    },
    {
      "cell_type": "code",
      "source": [
        "#scalar\n",
        "scaler = torch.tensor(7)\n",
        "scaler"
      ],
      "metadata": {
        "colab": {
          "base_uri": "https://localhost:8080/"
        },
        "id": "-L83r5A-0RdS",
        "outputId": "c632917f-4398-4747-9288-2b48f9e47396"
      },
      "execution_count": 6,
      "outputs": [
        {
          "output_type": "execute_result",
          "data": {
            "text/plain": [
              "tensor(7)"
            ]
          },
          "metadata": {},
          "execution_count": 6
        }
      ]
    },
    {
      "cell_type": "code",
      "source": [
        "scaler.ndim"
      ],
      "metadata": {
        "colab": {
          "base_uri": "https://localhost:8080/"
        },
        "id": "EpHR58J608Kg",
        "outputId": "3ae95c92-15c6-45e3-a60f-939edf2bfcca"
      },
      "execution_count": 7,
      "outputs": [
        {
          "output_type": "execute_result",
          "data": {
            "text/plain": [
              "0"
            ]
          },
          "metadata": {},
          "execution_count": 7
        }
      ]
    },
    {
      "cell_type": "code",
      "source": [
        "scaler.item()"
      ],
      "metadata": {
        "colab": {
          "base_uri": "https://localhost:8080/"
        },
        "id": "M0gaKhQ1FBp4",
        "outputId": "ad914355-7e50-4d06-e2b5-04f0f7c6ea34"
      },
      "execution_count": 8,
      "outputs": [
        {
          "output_type": "execute_result",
          "data": {
            "text/plain": [
              "7"
            ]
          },
          "metadata": {},
          "execution_count": 8
        }
      ]
    },
    {
      "cell_type": "code",
      "source": [
        "#vector\n",
        "vector = torch.tensor([7,8])"
      ],
      "metadata": {
        "id": "O0qcmwreF5OZ"
      },
      "execution_count": 9,
      "outputs": []
    },
    {
      "cell_type": "code",
      "source": [
        "vector"
      ],
      "metadata": {
        "colab": {
          "base_uri": "https://localhost:8080/"
        },
        "id": "k-GimGhWGSYr",
        "outputId": "0d3e559c-7e20-43bb-b8fc-fc9762249e88"
      },
      "execution_count": 10,
      "outputs": [
        {
          "output_type": "execute_result",
          "data": {
            "text/plain": [
              "tensor([7, 8])"
            ]
          },
          "metadata": {},
          "execution_count": 10
        }
      ]
    },
    {
      "cell_type": "code",
      "source": [
        " vector2 = torch.tensor([[7,8],[9,10]])\n",
        " vector2"
      ],
      "metadata": {
        "colab": {
          "base_uri": "https://localhost:8080/"
        },
        "id": "GBppfN8mGTJv",
        "outputId": "7189e0b0-f821-4765-f284-a349b81d1064"
      },
      "execution_count": 11,
      "outputs": [
        {
          "output_type": "execute_result",
          "data": {
            "text/plain": [
              "tensor([[ 7,  8],\n",
              "        [ 9, 10]])"
            ]
          },
          "metadata": {},
          "execution_count": 11
        }
      ]
    },
    {
      "cell_type": "code",
      "source": [
        "vector2.ndim"
      ],
      "metadata": {
        "colab": {
          "base_uri": "https://localhost:8080/"
        },
        "id": "nlyhjD62Gc32",
        "outputId": "32ce9488-bb29-4b99-985e-c3d873668a45"
      },
      "execution_count": 12,
      "outputs": [
        {
          "output_type": "execute_result",
          "data": {
            "text/plain": [
              "2"
            ]
          },
          "metadata": {},
          "execution_count": 12
        }
      ]
    },
    {
      "cell_type": "code",
      "source": [
        "#matrix\n",
        "Matrix = torch.tensor([[7,8],\n",
        "                       [9,10]])\n",
        "Matrix"
      ],
      "metadata": {
        "colab": {
          "base_uri": "https://localhost:8080/"
        },
        "id": "Vg1hoEuKHLJu",
        "outputId": "1a58ec7b-d76d-4e6d-9c42-69b5bc10759b"
      },
      "execution_count": 13,
      "outputs": [
        {
          "output_type": "execute_result",
          "data": {
            "text/plain": [
              "tensor([[ 7,  8],\n",
              "        [ 9, 10]])"
            ]
          },
          "metadata": {},
          "execution_count": 13
        }
      ]
    },
    {
      "cell_type": "code",
      "source": [
        "Matrix.ndim"
      ],
      "metadata": {
        "colab": {
          "base_uri": "https://localhost:8080/"
        },
        "id": "tlctdMEVHY3O",
        "outputId": "f506d06c-7fba-41d4-e518-971c2a36a9c8"
      },
      "execution_count": 14,
      "outputs": [
        {
          "output_type": "execute_result",
          "data": {
            "text/plain": [
              "2"
            ]
          },
          "metadata": {},
          "execution_count": 14
        }
      ]
    },
    {
      "cell_type": "code",
      "source": [
        "Matrix[1]"
      ],
      "metadata": {
        "colab": {
          "base_uri": "https://localhost:8080/"
        },
        "id": "e4fy0PfwHvdK",
        "outputId": "4c0ab11f-73cf-46e1-a413-b32cbe3e86f2"
      },
      "execution_count": 15,
      "outputs": [
        {
          "output_type": "execute_result",
          "data": {
            "text/plain": [
              "tensor([ 9, 10])"
            ]
          },
          "metadata": {},
          "execution_count": 15
        }
      ]
    },
    {
      "cell_type": "code",
      "source": [
        "Matrix[:,1]"
      ],
      "metadata": {
        "colab": {
          "base_uri": "https://localhost:8080/"
        },
        "id": "aGJaF6JEHz7C",
        "outputId": "4cea3596-586b-43a7-fcfa-529cc909c52c"
      },
      "execution_count": 16,
      "outputs": [
        {
          "output_type": "execute_result",
          "data": {
            "text/plain": [
              "tensor([ 8, 10])"
            ]
          },
          "metadata": {},
          "execution_count": 16
        }
      ]
    },
    {
      "cell_type": "code",
      "source": [
        " Matrix.shape"
      ],
      "metadata": {
        "colab": {
          "base_uri": "https://localhost:8080/"
        },
        "id": "-VmBfc1rIBfz",
        "outputId": "7bfa4dbb-ef7b-4b0d-9aa2-2ef9036c3938"
      },
      "execution_count": 17,
      "outputs": [
        {
          "output_type": "execute_result",
          "data": {
            "text/plain": [
              "torch.Size([2, 2])"
            ]
          },
          "metadata": {},
          "execution_count": 17
        }
      ]
    },
    {
      "cell_type": "code",
      "source": [
        "#tensors\n",
        "Tensor = torch.tensor([[1,2,4],\n",
        "                        [4,5,6],\n",
        "                        [7,8,9]])\n",
        "Tensor"
      ],
      "metadata": {
        "colab": {
          "base_uri": "https://localhost:8080/"
        },
        "id": "jHd-BTt9IQ6I",
        "outputId": "0b59396c-15eb-4548-e85d-192af317e1d4"
      },
      "execution_count": 18,
      "outputs": [
        {
          "output_type": "execute_result",
          "data": {
            "text/plain": [
              "tensor([[1, 2, 4],\n",
              "        [4, 5, 6],\n",
              "        [7, 8, 9]])"
            ]
          },
          "metadata": {},
          "execution_count": 18
        }
      ]
    },
    {
      "cell_type": "code",
      "source": [
        "Tensor.ndim"
      ],
      "metadata": {
        "colab": {
          "base_uri": "https://localhost:8080/"
        },
        "id": "4d5LYeABInEz",
        "outputId": "460cd8b7-37ed-42e1-a0c4-873e7991f046"
      },
      "execution_count": 19,
      "outputs": [
        {
          "output_type": "execute_result",
          "data": {
            "text/plain": [
              "2"
            ]
          },
          "metadata": {},
          "execution_count": 19
        }
      ]
    },
    {
      "cell_type": "code",
      "source": [
        "Tensor[0]"
      ],
      "metadata": {
        "colab": {
          "base_uri": "https://localhost:8080/"
        },
        "id": "Nq_BJZTKROKj",
        "outputId": "ad2c6ad0-d3c7-45ee-b4e5-cd8ae7e42b39"
      },
      "execution_count": 20,
      "outputs": [
        {
          "output_type": "execute_result",
          "data": {
            "text/plain": [
              "tensor([1, 2, 4])"
            ]
          },
          "metadata": {},
          "execution_count": 20
        }
      ]
    },
    {
      "cell_type": "code",
      "source": [
        " Tensor.shape"
      ],
      "metadata": {
        "colab": {
          "base_uri": "https://localhost:8080/"
        },
        "id": "ozcD5l00JmF6",
        "outputId": "d19d11a3-56bc-44cd-f414-8699d90a7e47"
      },
      "execution_count": 21,
      "outputs": [
        {
          "output_type": "execute_result",
          "data": {
            "text/plain": [
              "torch.Size([3, 3])"
            ]
          },
          "metadata": {},
          "execution_count": 21
        }
      ]
    },
    {
      "cell_type": "code",
      "source": [],
      "metadata": {
        "id": "SU-1tgSNQfIH"
      },
      "execution_count": 21,
      "outputs": []
    },
    {
      "cell_type": "code",
      "source": [
        "Tensor2 = torch.tensor([[[1,2],\n",
        "                         [3,4]],\n",
        "                        [[4,5],\n",
        "                         [6,7]]])\n",
        "Tensor2"
      ],
      "metadata": {
        "colab": {
          "base_uri": "https://localhost:8080/"
        },
        "id": "bfbfUHYRJqEN",
        "outputId": "af97aaa6-21c7-4bdd-8ba0-06a29b8fac87"
      },
      "execution_count": 22,
      "outputs": [
        {
          "output_type": "execute_result",
          "data": {
            "text/plain": [
              "tensor([[[1, 2],\n",
              "         [3, 4]],\n",
              "\n",
              "        [[4, 5],\n",
              "         [6, 7]]])"
            ]
          },
          "metadata": {},
          "execution_count": 22
        }
      ]
    },
    {
      "cell_type": "code",
      "source": [
        "Tensor2.ndim"
      ],
      "metadata": {
        "colab": {
          "base_uri": "https://localhost:8080/"
        },
        "id": "rkVfJB3CPK7w",
        "outputId": "0a7bc465-3102-4c78-97cd-225c40c0f7f5"
      },
      "execution_count": 23,
      "outputs": [
        {
          "output_type": "execute_result",
          "data": {
            "text/plain": [
              "3"
            ]
          },
          "metadata": {},
          "execution_count": 23
        }
      ]
    },
    {
      "cell_type": "code",
      "source": [
        "Tensor2.shape"
      ],
      "metadata": {
        "colab": {
          "base_uri": "https://localhost:8080/"
        },
        "id": "XPNYYbnzPRz3",
        "outputId": "9dad638d-19e3-4f9d-aa2e-015f619088e7"
      },
      "execution_count": 24,
      "outputs": [
        {
          "output_type": "execute_result",
          "data": {
            "text/plain": [
              "torch.Size([2, 2, 2])"
            ]
          },
          "metadata": {},
          "execution_count": 24
        }
      ]
    },
    {
      "cell_type": "markdown",
      "source": [
        "#**Random Tensors**"
      ],
      "metadata": {
        "id": "Lb1IGdKpRXNI"
      }
    },
    {
      "cell_type": "code",
      "source": [
        "#first I want to create some random numpy numbers\n",
        "import numpy as np\n",
        "import random\n"
      ],
      "metadata": {
        "id": "4NOcCI_9PT65"
      },
      "execution_count": 25,
      "outputs": []
    },
    {
      "cell_type": "code",
      "source": [
        "a = np.zeros((2,3))\n",
        "print(a)\n",
        "b = np.ones((2,3))\n",
        "print(b)\n",
        "c = np.random.randint((2,3))\n",
        "print(c)"
      ],
      "metadata": {
        "colab": {
          "base_uri": "https://localhost:8080/"
        },
        "id": "m7feqOw8drmM",
        "outputId": "3ee6f473-0020-45eb-fa5c-00cbef605699"
      },
      "execution_count": 26,
      "outputs": [
        {
          "output_type": "stream",
          "name": "stdout",
          "text": [
            "[[0. 0. 0.]\n",
            " [0. 0. 0.]]\n",
            "[[1. 1. 1.]\n",
            " [1. 1. 1.]]\n",
            "[0 1]\n"
          ]
        }
      ]
    },
    {
      "cell_type": "code",
      "source": [
        "#create a random tensor\n",
        "random_TENSOR = torch.rand(3,4)\n",
        "random_TENSOR"
      ],
      "metadata": {
        "colab": {
          "base_uri": "https://localhost:8080/"
        },
        "id": "U567fei3eL3o",
        "outputId": "1f4876e4-291e-49b7-bd7a-45a152d122c4"
      },
      "execution_count": 27,
      "outputs": [
        {
          "output_type": "execute_result",
          "data": {
            "text/plain": [
              "tensor([[0.6265, 0.6767, 0.2926, 0.9921],\n",
              "        [0.8759, 0.5166, 0.1062, 0.7262],\n",
              "        [0.2758, 0.8720, 0.9398, 0.6008]])"
            ]
          },
          "metadata": {},
          "execution_count": 27
        }
      ]
    },
    {
      "cell_type": "code",
      "source": [
        "#create a random tensor with similar shape to an image\n",
        "random_image_size_tensor = torch.rand(size=(224,224,3))\n",
        "random_image_size_tensor.shape,random_image_size_tensor.ndim"
      ],
      "metadata": {
        "colab": {
          "base_uri": "https://localhost:8080/"
        },
        "id": "Nhz1FpXKewuv",
        "outputId": "68e04af0-99cc-4222-9b7f-b16a7c07acdd"
      },
      "execution_count": 28,
      "outputs": [
        {
          "output_type": "execute_result",
          "data": {
            "text/plain": [
              "(torch.Size([224, 224, 3]), 3)"
            ]
          },
          "metadata": {},
          "execution_count": 28
        }
      ]
    },
    {
      "cell_type": "code",
      "source": [
        "#zero and one tensor\n",
        "rand_tensor = torch.rand(size = (5,10,10))\n",
        "rand_tensor"
      ],
      "metadata": {
        "colab": {
          "base_uri": "https://localhost:8080/"
        },
        "id": "RwOXjjQLhTD2",
        "outputId": "37ed9778-fa4b-4bba-9d16-4db3273f50fb"
      },
      "execution_count": 29,
      "outputs": [
        {
          "output_type": "execute_result",
          "data": {
            "text/plain": [
              "tensor([[[4.9264e-01, 3.6795e-02, 1.4693e-01, 1.3062e-01, 7.1102e-01,\n",
              "          7.2347e-01, 2.3081e-01, 9.1691e-01, 1.3199e-01, 6.4794e-01],\n",
              "         [1.0286e-01, 2.8214e-01, 2.2136e-01, 2.6550e-01, 3.0921e-01,\n",
              "          1.0569e-01, 5.9088e-01, 2.1909e-01, 7.6130e-01, 6.5042e-01],\n",
              "         [5.0617e-01, 6.0402e-01, 7.7174e-01, 5.3706e-01, 2.3929e-01,\n",
              "          3.4756e-01, 5.4827e-01, 1.9689e-01, 5.6430e-01, 7.9847e-01],\n",
              "         [3.3819e-01, 2.0697e-01, 9.5717e-01, 8.5924e-01, 4.2103e-01,\n",
              "          1.4059e-01, 9.1569e-01, 9.2530e-03, 4.1970e-01, 4.9417e-01],\n",
              "         [6.2203e-01, 6.0030e-01, 2.3841e-01, 6.5192e-01, 8.1356e-01,\n",
              "          6.5415e-01, 4.2157e-01, 4.9722e-01, 8.2957e-01, 8.6469e-01],\n",
              "         [3.3687e-01, 1.9235e-01, 1.4026e-01, 8.5553e-01, 8.2611e-01,\n",
              "          3.1663e-01, 3.7957e-01, 7.0850e-02, 7.7500e-01, 1.0400e-01],\n",
              "         [1.1378e-01, 1.4963e-02, 4.0203e-01, 9.4204e-01, 9.6407e-01,\n",
              "          5.6424e-01, 4.2076e-02, 7.3680e-01, 6.1289e-01, 7.5640e-01],\n",
              "         [4.9307e-01, 5.2143e-01, 5.3170e-01, 3.8065e-01, 3.7312e-03,\n",
              "          1.4680e-01, 3.7820e-01, 1.3063e-01, 4.4752e-01, 2.6538e-01],\n",
              "         [2.7122e-02, 4.2753e-01, 9.0649e-01, 9.7194e-01, 4.0740e-01,\n",
              "          2.7966e-01, 6.0333e-01, 7.6439e-01, 4.2388e-01, 2.0731e-01],\n",
              "         [6.9116e-01, 1.8374e-01, 8.6234e-02, 8.9701e-01, 3.4423e-01,\n",
              "          3.1953e-02, 9.4985e-01, 2.5149e-01, 2.2942e-01, 8.2301e-01]],\n",
              "\n",
              "        [[9.5658e-01, 8.1557e-01, 7.5643e-01, 8.0533e-01, 3.0195e-01,\n",
              "          9.0542e-01, 2.9461e-01, 1.3917e-01, 9.0204e-01, 8.9989e-01],\n",
              "         [4.8036e-01, 9.5357e-01, 2.9783e-01, 2.9724e-01, 5.2191e-01,\n",
              "          2.6346e-03, 7.2624e-01, 1.8087e-01, 9.0799e-01, 5.8732e-01],\n",
              "         [4.5509e-01, 3.9402e-01, 8.2392e-01, 6.6995e-01, 5.5527e-01,\n",
              "          1.4567e-01, 2.3628e-01, 9.7286e-01, 3.8163e-01, 4.4803e-02],\n",
              "         [7.2427e-01, 6.8739e-01, 1.6409e-01, 6.4653e-01, 1.9756e-02,\n",
              "          9.9993e-01, 3.4370e-02, 8.5918e-01, 8.5516e-01, 4.1975e-01],\n",
              "         [8.5739e-01, 9.4141e-02, 6.7891e-01, 9.8460e-01, 1.6950e-01,\n",
              "          5.4564e-01, 6.9618e-01, 7.7433e-01, 8.2736e-01, 1.4974e-01],\n",
              "         [4.1144e-01, 1.4090e-01, 5.2408e-01, 5.7748e-01, 9.2113e-01,\n",
              "          1.5320e-01, 9.5260e-01, 9.2677e-01, 7.9177e-01, 3.2452e-01],\n",
              "         [1.7031e-02, 4.5034e-01, 4.9346e-01, 6.7549e-01, 4.1455e-01,\n",
              "          6.1498e-01, 8.5723e-01, 5.2296e-02, 1.5176e-01, 9.3382e-02],\n",
              "         [6.6342e-01, 7.4795e-01, 7.8832e-02, 7.2170e-01, 5.4001e-01,\n",
              "          4.9350e-01, 5.9870e-01, 2.8939e-01, 8.5855e-01, 4.2863e-01],\n",
              "         [2.9590e-01, 4.5765e-01, 4.0366e-01, 3.9690e-01, 9.9206e-02,\n",
              "          5.9964e-01, 7.8200e-01, 6.4583e-02, 2.2724e-01, 1.5412e-01],\n",
              "         [4.1060e-01, 1.3105e-01, 8.7860e-01, 2.4516e-01, 1.4236e-01,\n",
              "          5.8034e-01, 2.0074e-01, 9.2477e-02, 3.2416e-01, 9.6965e-01]],\n",
              "\n",
              "        [[8.3225e-01, 2.4644e-01, 7.8216e-01, 9.7865e-01, 1.4416e-01,\n",
              "          3.4692e-02, 8.4563e-01, 6.8045e-01, 9.0254e-01, 8.7488e-01],\n",
              "         [3.6263e-01, 6.9108e-01, 3.6483e-01, 2.6991e-01, 3.1140e-01,\n",
              "          1.1054e-01, 9.2294e-01, 6.0599e-01, 7.4012e-02, 6.6863e-02],\n",
              "         [3.1770e-01, 7.9077e-01, 1.7998e-01, 4.9051e-01, 6.7088e-01,\n",
              "          1.9216e-01, 5.9168e-01, 8.6726e-01, 9.5295e-01, 4.5134e-01],\n",
              "         [7.4362e-02, 6.9490e-01, 5.1081e-01, 2.0716e-01, 4.3775e-01,\n",
              "          7.4768e-01, 9.1618e-01, 1.3870e-02, 4.2018e-01, 1.9127e-02],\n",
              "         [2.7451e-01, 3.9468e-01, 1.0762e-01, 8.1862e-01, 2.9046e-01,\n",
              "          9.8498e-01, 4.7811e-01, 2.5359e-03, 5.3848e-01, 1.8114e-01],\n",
              "         [5.0637e-01, 1.9483e-01, 5.6042e-01, 7.1642e-01, 3.4420e-01,\n",
              "          6.4485e-01, 7.6591e-01, 5.9416e-01, 8.3132e-01, 5.7751e-01],\n",
              "         [5.1616e-01, 5.5329e-01, 9.1334e-01, 7.3760e-01, 6.0801e-01,\n",
              "          2.8580e-01, 2.3936e-02, 3.7416e-01, 4.7699e-01, 8.3237e-01],\n",
              "         [3.4844e-01, 6.1800e-01, 5.0738e-01, 2.9243e-01, 1.1144e-01,\n",
              "          2.3738e-01, 2.8862e-01, 4.9409e-02, 3.1427e-01, 2.6818e-01],\n",
              "         [2.1511e-01, 8.9979e-02, 1.6995e-01, 7.1086e-01, 6.2441e-01,\n",
              "          8.6156e-01, 1.5091e-01, 3.7956e-01, 4.6488e-01, 2.6704e-01],\n",
              "         [7.8776e-01, 9.1784e-01, 9.4776e-01, 7.7317e-01, 4.8742e-02,\n",
              "          7.9464e-01, 4.8957e-01, 1.0558e-01, 6.7710e-01, 6.1512e-01]],\n",
              "\n",
              "        [[5.5580e-01, 1.7671e-01, 4.6941e-02, 1.7068e-01, 4.5048e-01,\n",
              "          8.2651e-01, 4.1420e-01, 5.8602e-01, 2.3920e-01, 1.0541e-02],\n",
              "         [4.0972e-01, 9.5868e-01, 1.9341e-01, 3.4126e-01, 4.0855e-01,\n",
              "          3.6215e-01, 5.6665e-01, 2.9758e-02, 5.8214e-02, 3.2888e-01],\n",
              "         [8.1763e-01, 4.7875e-01, 2.0637e-01, 9.9613e-01, 3.3897e-01,\n",
              "          5.4375e-01, 3.3750e-01, 2.4335e-01, 6.2368e-01, 1.6353e-01],\n",
              "         [9.9259e-01, 8.5593e-01, 4.5457e-01, 4.0416e-01, 4.9700e-02,\n",
              "          3.3005e-01, 9.3631e-01, 3.3196e-02, 8.1223e-01, 5.4855e-01],\n",
              "         [8.3032e-01, 7.7817e-02, 1.0014e-01, 5.3551e-02, 9.1578e-01,\n",
              "          2.1610e-01, 1.6515e-01, 6.3039e-01, 7.3296e-01, 9.1879e-02],\n",
              "         [6.3190e-02, 5.3901e-01, 1.7705e-01, 8.5510e-01, 7.4705e-01,\n",
              "          8.7940e-02, 4.0621e-01, 3.1143e-01, 6.7177e-01, 9.9295e-01],\n",
              "         [8.2535e-01, 5.4869e-01, 4.4399e-01, 5.8472e-02, 1.6052e-01,\n",
              "          3.2629e-01, 9.8845e-01, 3.6778e-01, 3.8274e-01, 5.4410e-01],\n",
              "         [1.5337e-01, 8.1654e-01, 1.7722e-01, 1.1378e-01, 1.6384e-01,\n",
              "          5.8143e-01, 8.9083e-01, 6.1221e-01, 5.3358e-01, 3.8670e-01],\n",
              "         [6.0287e-01, 5.0014e-01, 5.5362e-01, 5.1832e-01, 5.8134e-01,\n",
              "          1.9946e-01, 1.4875e-01, 8.1671e-01, 1.8739e-01, 5.2078e-01],\n",
              "         [4.7868e-01, 8.2628e-01, 4.0677e-02, 3.5273e-02, 6.1682e-01,\n",
              "          6.4296e-01, 2.9078e-02, 8.2601e-01, 4.9812e-01, 6.3599e-01]],\n",
              "\n",
              "        [[3.9131e-01, 1.6835e-01, 3.3319e-01, 8.7439e-01, 2.3424e-01,\n",
              "          1.3242e-01, 3.3739e-02, 1.8104e-01, 5.0704e-02, 8.9204e-01],\n",
              "         [6.0816e-01, 2.7315e-01, 1.0999e-01, 5.0055e-01, 4.9625e-01,\n",
              "          7.6260e-01, 4.4710e-01, 2.6866e-01, 2.7321e-01, 1.5322e-01],\n",
              "         [8.5487e-01, 3.4442e-01, 6.1450e-01, 4.8518e-01, 8.8380e-01,\n",
              "          9.8546e-01, 5.7199e-01, 5.5539e-01, 3.2240e-01, 4.6216e-01],\n",
              "         [1.8552e-02, 3.3906e-01, 5.3565e-01, 2.8216e-01, 6.1005e-01,\n",
              "          7.8624e-01, 2.1057e-01, 6.8263e-01, 3.8321e-01, 6.0636e-01],\n",
              "         [3.7665e-01, 9.9020e-01, 5.1923e-01, 2.6796e-01, 7.3200e-01,\n",
              "          9.3417e-01, 3.6330e-01, 9.3987e-01, 6.4696e-01, 7.2999e-01],\n",
              "         [1.1033e-01, 8.7296e-03, 6.5583e-01, 4.5138e-01, 6.9795e-03,\n",
              "          2.1569e-01, 7.6210e-04, 1.0556e-01, 3.8042e-01, 1.8906e-01],\n",
              "         [2.5042e-01, 8.5922e-01, 8.5149e-01, 5.0268e-01, 7.9685e-01,\n",
              "          5.8171e-01, 8.4286e-01, 3.0158e-01, 5.7839e-01, 6.7447e-01],\n",
              "         [1.0818e-01, 2.0003e-04, 6.1336e-01, 2.5763e-02, 5.7366e-01,\n",
              "          4.4104e-01, 9.7202e-01, 1.8049e-01, 1.6634e-01, 7.2256e-01],\n",
              "         [5.5498e-01, 6.2472e-02, 1.3213e-01, 8.8422e-01, 5.2298e-01,\n",
              "          5.4030e-01, 4.3246e-02, 2.2726e-02, 2.4156e-01, 5.9376e-01],\n",
              "         [3.0066e-01, 7.3447e-01, 3.3333e-01, 8.7119e-01, 7.5079e-01,\n",
              "          6.6667e-01, 3.7590e-02, 5.5398e-01, 2.2139e-01, 1.0490e-01]]])"
            ]
          },
          "metadata": {},
          "execution_count": 29
        }
      ]
    },
    {
      "cell_type": "markdown",
      "source": [
        "##**Zeros and Ones**"
      ],
      "metadata": {
        "id": "ZXAwBeX-jK7m"
      }
    },
    {
      "cell_type": "code",
      "source": [
        "zeros = torch.zeros(size=(3,4))\n",
        "zeros"
      ],
      "metadata": {
        "colab": {
          "base_uri": "https://localhost:8080/"
        },
        "id": "_nCrUpKTjG4X",
        "outputId": "cbde5875-a976-435d-cc03-cd8664496e87"
      },
      "execution_count": 30,
      "outputs": [
        {
          "output_type": "execute_result",
          "data": {
            "text/plain": [
              "tensor([[0., 0., 0., 0.],\n",
              "        [0., 0., 0., 0.],\n",
              "        [0., 0., 0., 0.]])"
            ]
          },
          "metadata": {},
          "execution_count": 30
        }
      ]
    },
    {
      "cell_type": "code",
      "source": [
        "ones = torch.ones(size=(3,4))\n",
        "ones"
      ],
      "metadata": {
        "colab": {
          "base_uri": "https://localhost:8080/"
        },
        "id": "GUX6tJyQjTOB",
        "outputId": "2d455df8-5100-4c13-e1ac-7184a2012c39"
      },
      "execution_count": 31,
      "outputs": [
        {
          "output_type": "execute_result",
          "data": {
            "text/plain": [
              "tensor([[1., 1., 1., 1.],\n",
              "        [1., 1., 1., 1.],\n",
              "        [1., 1., 1., 1.]])"
            ]
          },
          "metadata": {},
          "execution_count": 31
        }
      ]
    },
    {
      "cell_type": "markdown",
      "source": [
        "##**Creating a range of tensors and tensors like**"
      ],
      "metadata": {
        "id": "IEFMZWwikDUv"
      }
    },
    {
      "cell_type": "code",
      "source": [
        "#use torch.range()\n",
        "torch.range(0,10)"
      ],
      "metadata": {
        "colab": {
          "base_uri": "https://localhost:8080/"
        },
        "id": "0bbEzeBpkC_f",
        "outputId": "4930be1f-3c80-4731-9cdd-b8db5989fcc6"
      },
      "execution_count": 32,
      "outputs": [
        {
          "output_type": "stream",
          "name": "stderr",
          "text": [
            "<ipython-input-32-d32bca609d4d>:2: UserWarning: torch.range is deprecated and will be removed in a future release because its behavior is inconsistent with Python's range builtin. Instead, use torch.arange, which produces values in [start, end).\n",
            "  torch.range(0,10)\n"
          ]
        },
        {
          "output_type": "execute_result",
          "data": {
            "text/plain": [
              "tensor([ 0.,  1.,  2.,  3.,  4.,  5.,  6.,  7.,  8.,  9., 10.])"
            ]
          },
          "metadata": {},
          "execution_count": 32
        }
      ]
    },
    {
      "cell_type": "code",
      "source": [
        "torch.arange(1,11)"
      ],
      "metadata": {
        "colab": {
          "base_uri": "https://localhost:8080/"
        },
        "id": "Gx414_WkjWCe",
        "outputId": "82311269-3e30-49f4-f55e-20e2ec1924b9"
      },
      "execution_count": 33,
      "outputs": [
        {
          "output_type": "execute_result",
          "data": {
            "text/plain": [
              "tensor([ 1,  2,  3,  4,  5,  6,  7,  8,  9, 10])"
            ]
          },
          "metadata": {},
          "execution_count": 33
        }
      ]
    },
    {
      "cell_type": "code",
      "source": [
        " #use torch.range()\n",
        " one_to_ten = torch.arange(start = 1, end = 1000, step = 73)\n",
        " one_to_ten"
      ],
      "metadata": {
        "colab": {
          "base_uri": "https://localhost:8080/"
        },
        "id": "1iiC8GDIkr5-",
        "outputId": "f21c59d5-63be-4877-d7c3-a2164a135719"
      },
      "execution_count": 34,
      "outputs": [
        {
          "output_type": "execute_result",
          "data": {
            "text/plain": [
              "tensor([  1,  74, 147, 220, 293, 366, 439, 512, 585, 658, 731, 804, 877, 950])"
            ]
          },
          "metadata": {},
          "execution_count": 34
        }
      ]
    },
    {
      "cell_type": "code",
      "source": [
        "zeros_like = torch.zeros_like(input = one_to_ten)\n",
        "zeros_like"
      ],
      "metadata": {
        "colab": {
          "base_uri": "https://localhost:8080/"
        },
        "id": "tWp9bcFVlaoQ",
        "outputId": "82130f95-6f89-4a11-e45d-22b726a9fb4a"
      },
      "execution_count": 35,
      "outputs": [
        {
          "output_type": "execute_result",
          "data": {
            "text/plain": [
              "tensor([0, 0, 0, 0, 0, 0, 0, 0, 0, 0, 0, 0, 0, 0])"
            ]
          },
          "metadata": {},
          "execution_count": 35
        }
      ]
    },
    {
      "cell_type": "code",
      "source": [
        "zeros_like.shape"
      ],
      "metadata": {
        "colab": {
          "base_uri": "https://localhost:8080/"
        },
        "id": "LvxTZJpOmrR-",
        "outputId": "9203bf13-5abc-4a44-e923-307595c6d550"
      },
      "execution_count": 36,
      "outputs": [
        {
          "output_type": "execute_result",
          "data": {
            "text/plain": [
              "torch.Size([14])"
            ]
          },
          "metadata": {},
          "execution_count": 36
        }
      ]
    },
    {
      "cell_type": "code",
      "source": [
        " ones_like = torch.ones_like(input= one_to_ten)\n",
        " ones_like"
      ],
      "metadata": {
        "colab": {
          "base_uri": "https://localhost:8080/"
        },
        "id": "oOb6Y08qmxVr",
        "outputId": "283cb9e2-5035-4b40-ab48-f88cac5f3ed2"
      },
      "execution_count": 37,
      "outputs": [
        {
          "output_type": "execute_result",
          "data": {
            "text/plain": [
              "tensor([1, 1, 1, 1, 1, 1, 1, 1, 1, 1, 1, 1, 1, 1])"
            ]
          },
          "metadata": {},
          "execution_count": 37
        }
      ]
    },
    {
      "cell_type": "markdown",
      "source": [
        "##**Tensor Datatypes**"
      ],
      "metadata": {
        "id": "mrcv9BDYplFZ"
      }
    },
    {
      "cell_type": "code",
      "source": [
        "#float 32 tensor\n",
        "float_32_tensor= torch.tensor([3.0,6.0,9.0],\n",
        "                               dtype= None, #what datatype is the tensor\n",
        "                              device=None, #what device is your tensor on\n",
        "                              requires_grad=False) #whether or not to track the gradient descent with this tensor operations\n",
        "float_32_tensor"
      ],
      "metadata": {
        "colab": {
          "base_uri": "https://localhost:8080/"
        },
        "id": "wSWdKY1Ko-dr",
        "outputId": "07a10764-48ed-4879-bf69-80d01976f4cc"
      },
      "execution_count": 46,
      "outputs": [
        {
          "output_type": "execute_result",
          "data": {
            "text/plain": [
              "tensor([3., 6., 9.])"
            ]
          },
          "metadata": {},
          "execution_count": 46
        }
      ]
    },
    {
      "cell_type": "markdown",
      "source": [
        "**The main 3 errors one might face while using tensors, they are**\n",
        "\n",
        "\n",
        "*   Tensors not right datatype\n",
        "*   Tensors not in right shape\n",
        "*   Tensors not on the right device\n",
        "\n"
      ],
      "metadata": {
        "id": "GhvXHh4gz2ep"
      }
    },
    {
      "cell_type": "code",
      "source": [
        "float_32_tensor.dtype"
      ],
      "metadata": {
        "colab": {
          "base_uri": "https://localhost:8080/"
        },
        "id": "PFf70r-GqSlF",
        "outputId": "4c105a82-d469-45b7-eedb-db75ecd342ef"
      },
      "execution_count": 44,
      "outputs": [
        {
          "output_type": "execute_result",
          "data": {
            "text/plain": [
              "torch.float32"
            ]
          },
          "metadata": {},
          "execution_count": 44
        }
      ]
    },
    {
      "cell_type": "code",
      "source": [
        " float_16_tensor = float_32_tensor.type(torch.float16)"
      ],
      "metadata": {
        "id": "K--DSuGr0XwF"
      },
      "execution_count": 47,
      "outputs": []
    },
    {
      "cell_type": "code",
      "source": [
        "#conversion\n",
        "float_16_tensor\n",
        "print(float_16_tensor.dtype)"
      ],
      "metadata": {
        "colab": {
          "base_uri": "https://localhost:8080/"
        },
        "id": "lD1TZ_R21w4X",
        "outputId": "11c6d9d2-d48f-4b48-9f80-a64941c2905d"
      },
      "execution_count": 50,
      "outputs": [
        {
          "output_type": "stream",
          "name": "stdout",
          "text": [
            "torch.float16\n"
          ]
        }
      ]
    },
    {
      "cell_type": "code",
      "source": [
        "float_64_tensor = torch.tensor([1.,2.,3.],\n",
        "                               dtype=torch.float64,\n",
        "                               device = None)\n",
        "float_64_tensor.dtype\n"
      ],
      "metadata": {
        "colab": {
          "base_uri": "https://localhost:8080/"
        },
        "id": "rgUF06k31ysT",
        "outputId": "d8c786ff-49ef-4a92-b7b7-2afed4b452cb"
      },
      "execution_count": 54,
      "outputs": [
        {
          "output_type": "execute_result",
          "data": {
            "text/plain": [
              "torch.float64"
            ]
          },
          "metadata": {},
          "execution_count": 54
        }
      ]
    },
    {
      "cell_type": "code",
      "source": [
        "float_64_tensor"
      ],
      "metadata": {
        "colab": {
          "base_uri": "https://localhost:8080/"
        },
        "id": "pqffDrqA5ktV",
        "outputId": "277f423a-c819-4286-dc38-122218f8bae8"
      },
      "execution_count": 55,
      "outputs": [
        {
          "output_type": "execute_result",
          "data": {
            "text/plain": [
              "tensor([1., 2., 3.], dtype=torch.float64)"
            ]
          },
          "metadata": {},
          "execution_count": 55
        }
      ]
    },
    {
      "cell_type": "code",
      "source": [
        "float_16_tensors = float_64_tensor.type(torch.float16)\n",
        "float_16_tensors"
      ],
      "metadata": {
        "colab": {
          "base_uri": "https://localhost:8080/"
        },
        "id": "DnD6zjKy54NC",
        "outputId": "e44445d4-f569-4b9b-82ec-557ecb7d29c0"
      },
      "execution_count": 56,
      "outputs": [
        {
          "output_type": "execute_result",
          "data": {
            "text/plain": [
              "tensor([1., 2., 3.], dtype=torch.float16)"
            ]
          },
          "metadata": {},
          "execution_count": 56
        }
      ]
    },
    {
      "cell_type": "code",
      "source": [
        "#operations in different data types\n",
        "float_64_tensor + float_16_tensors"
      ],
      "metadata": {
        "colab": {
          "base_uri": "https://localhost:8080/"
        },
        "id": "wxaAF99v66_T",
        "outputId": "c2a49e78-9b7c-4843-a41f-3bf1480cabe1"
      },
      "execution_count": 57,
      "outputs": [
        {
          "output_type": "execute_result",
          "data": {
            "text/plain": [
              "tensor([2., 4., 6.], dtype=torch.float64)"
            ]
          },
          "metadata": {},
          "execution_count": 57
        }
      ]
    },
    {
      "cell_type": "code",
      "source": [
        "#operations in different data types\n",
        "float_64_tensor * float_16_tensors"
      ],
      "metadata": {
        "colab": {
          "base_uri": "https://localhost:8080/"
        },
        "id": "A-fWbGqI7eow",
        "outputId": "2fa68793-6192-4fc4-ccae-07e0e9a51fb6"
      },
      "execution_count": 58,
      "outputs": [
        {
          "output_type": "execute_result",
          "data": {
            "text/plain": [
              "tensor([1., 4., 9.], dtype=torch.float64)"
            ]
          },
          "metadata": {},
          "execution_count": 58
        }
      ]
    },
    {
      "cell_type": "code",
      "source": [
        "#getting information from the tensors\n",
        "some_tensor = torch.rand(4,5)\n",
        "some_tensor"
      ],
      "metadata": {
        "colab": {
          "base_uri": "https://localhost:8080/"
        },
        "id": "kVVf9KzP7lkY",
        "outputId": "2bffa4da-be97-4d24-b578-3c907f0deaa9"
      },
      "execution_count": 59,
      "outputs": [
        {
          "output_type": "execute_result",
          "data": {
            "text/plain": [
              "tensor([[0.2091, 0.4844, 0.6116, 0.6677, 0.2000],\n",
              "        [0.3707, 0.5625, 0.3928, 0.3309, 0.4979],\n",
              "        [0.5158, 0.4781, 0.6676, 0.6673, 0.6635],\n",
              "        [0.2169, 0.0898, 0.5200, 0.4985, 0.3650]])"
            ]
          },
          "metadata": {},
          "execution_count": 59
        }
      ]
    },
    {
      "cell_type": "code",
      "source": [
        "#find out details about some tensor\n",
        "print(some_tensor)\n",
        "print(some_tensor.dtype)\n",
        "print(some_tensor.device)\n",
        "print(some_tensor.shape)"
      ],
      "metadata": {
        "colab": {
          "base_uri": "https://localhost:8080/"
        },
        "id": "1Mnw0MxC8tC1",
        "outputId": "70587a04-6ceb-45f3-c87b-1aa06f4b2b85"
      },
      "execution_count": 62,
      "outputs": [
        {
          "output_type": "stream",
          "name": "stdout",
          "text": [
            "tensor([[0.2091, 0.4844, 0.6116, 0.6677, 0.2000],\n",
            "        [0.3707, 0.5625, 0.3928, 0.3309, 0.4979],\n",
            "        [0.5158, 0.4781, 0.6676, 0.6673, 0.6635],\n",
            "        [0.2169, 0.0898, 0.5200, 0.4985, 0.3650]])\n",
            "torch.float32\n",
            "cpu\n",
            "torch.Size([4, 5])\n"
          ]
        }
      ]
    },
    {
      "cell_type": "code",
      "source": [
        "#manipulation tensors(tensor operations)\n",
        "'''It includes\n",
        "#addition\n",
        "#substraction\n",
        "#multiplication\n",
        "#matrix multiplication'''"
      ],
      "metadata": {
        "colab": {
          "base_uri": "https://localhost:8080/",
          "height": 55
        },
        "id": "CpincBcB84RN",
        "outputId": "0dbc0b1c-6e4f-4498-f150-868cf7abc281"
      },
      "execution_count": 65,
      "outputs": [
        {
          "output_type": "execute_result",
          "data": {
            "text/plain": [
              "'It includes\\n#addition\\n#substraction\\n#multiplication\\n#matrix multiplication'"
            ],
            "application/vnd.google.colaboratory.intrinsic+json": {
              "type": "string"
            }
          },
          "metadata": {},
          "execution_count": 65
        }
      ]
    },
    {
      "cell_type": "code",
      "source": [
        "#create a random torch and add 15\n",
        "torch = torch.tensor([1,2,3],dtype=torch.int32)\n",
        "torch + 15"
      ],
      "metadata": {
        "colab": {
          "base_uri": "https://localhost:8080/"
        },
        "id": "VOD0W8k-9hbk",
        "outputId": "d383154f-44ac-4f3a-87d2-0bd6dfe8878d"
      },
      "execution_count": 67,
      "outputs": [
        {
          "output_type": "execute_result",
          "data": {
            "text/plain": [
              "tensor([16, 17, 18], dtype=torch.int32)"
            ]
          },
          "metadata": {},
          "execution_count": 67
        }
      ]
    },
    {
      "cell_type": "code",
      "source": [
        "#multiply by 15\n",
        "torch*15"
      ],
      "metadata": {
        "colab": {
          "base_uri": "https://localhost:8080/"
        },
        "id": "8Ki2Em5o-zMx",
        "outputId": "1d8425e4-2f00-4fd1-f8fa-0a0770820576"
      },
      "execution_count": 69,
      "outputs": [
        {
          "output_type": "execute_result",
          "data": {
            "text/plain": [
              "tensor([15, 30, 45], dtype=torch.int32)"
            ]
          },
          "metadata": {},
          "execution_count": 69
        }
      ]
    },
    {
      "cell_type": "code",
      "source": [
        "torch"
      ],
      "metadata": {
        "colab": {
          "base_uri": "https://localhost:8080/"
        },
        "id": "n2M7LtMT--pn",
        "outputId": "946d7b32-1bf8-4542-90bb-129fea2e8f80"
      },
      "execution_count": 70,
      "outputs": [
        {
          "output_type": "execute_result",
          "data": {
            "text/plain": [
              "tensor([1, 2, 3], dtype=torch.int32)"
            ]
          },
          "metadata": {},
          "execution_count": 70
        }
      ]
    },
    {
      "cell_type": "code",
      "source": [
        "#matrix multiplication"
      ],
      "metadata": {
        "id": "MhiyraNJ_C3E"
      },
      "execution_count": null,
      "outputs": []
    }
  ]
}