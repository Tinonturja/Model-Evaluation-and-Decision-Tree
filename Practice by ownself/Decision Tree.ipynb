{
 "cells": [
  {
   "cell_type": "markdown",
   "id": "becc6b52-3201-4995-a076-2d02b1388bfb",
   "metadata": {},
   "source": [
    "### Import libraries"
   ]
  },
  {
   "cell_type": "code",
   "execution_count": 1,
   "id": "b5ae4ff7-435e-49d8-8135-ebb97d8a5874",
   "metadata": {},
   "outputs": [],
   "source": [
    "import pandas as pd\n",
    "import numpy as np\n",
    "import matplotlib.pyplot as plt"
   ]
  },
  {
   "cell_type": "code",
   "execution_count": 10,
   "id": "7f4838cd-edf1-4c27-ba51-cb34750e76b7",
   "metadata": {},
   "outputs": [],
   "source": [
    "def entropy_calculation(values):\n",
    "    entropy_set = []\n",
    "    for value in values:\n",
    "        value1 = value\n",
    "        value2 = 1 - value1\n",
    "        entropy = (-value1*np.log2(value1)-value2 * np.log2(value2)).round(3)\n",
    "        entropy_set.append(entropy)\n",
    "    return entropy_set\n",
    "        "
   ]
  },
  {
   "cell_type": "code",
   "execution_count": 11,
   "id": "0d47371a-b3e9-43aa-8683-99c086a5777e",
   "metadata": {},
   "outputs": [
    {
     "data": {
      "text/plain": [
       "[0.0, 0.2, 0.4, 0.6, 0.8, 1.0]"
      ]
     },
     "execution_count": 11,
     "metadata": {},
     "output_type": "execute_result"
    }
   ],
   "source": [
    "# Creating a list from 0.0 to 1.0 with an interval of 0.2\n",
    "interval_list = [round(x, 1) for x in [i * 0.2 for i in range(6)]]\n",
    "interval_list "
   ]
  },
  {
   "cell_type": "code",
   "execution_count": 12,
   "id": "f1f43d22-83e8-487d-b371-bffef129482d",
   "metadata": {},
   "outputs": [
    {
     "name": "stderr",
     "output_type": "stream",
     "text": [
      "/var/folders/y2/33vgfdz176b018l37jlk7z3m0000gn/T/ipykernel_99975/2172854915.py:6: RuntimeWarning: divide by zero encountered in log2\n",
      "  entropy = (-value1*np.log2(value1)-value2 * np.log2(value2)).round(3)\n",
      "/var/folders/y2/33vgfdz176b018l37jlk7z3m0000gn/T/ipykernel_99975/2172854915.py:6: RuntimeWarning: invalid value encountered in double_scalars\n",
      "  entropy = (-value1*np.log2(value1)-value2 * np.log2(value2)).round(3)\n"
     ]
    }
   ],
   "source": [
    "entropy = entropy_calculation(interval_list)"
   ]
  },
  {
   "cell_type": "code",
   "execution_count": 13,
   "id": "0159a9dd-42c8-4e23-9bbf-27fee14646c2",
   "metadata": {},
   "outputs": [
    {
     "name": "stdout",
     "output_type": "stream",
     "text": [
      "[nan, 0.722, 0.971, 0.971, 0.722, nan]\n"
     ]
    }
   ],
   "source": [
    "print(entropy)"
   ]
  },
  {
   "cell_type": "code",
   "execution_count": 14,
   "id": "4b4a0692-4cff-497c-aabf-e6839277ab08",
   "metadata": {},
   "outputs": [],
   "source": [
    "def plot_fig(x, y):\n",
    "    plt.plot(x, y, c = 'b', label = 'h(P) plot')\n",
    "    plt.xlabel('entropy')\n",
    "    plt.ylabel('values')\n",
    "    plt.show()\n",
    "    "
   ]
  },
  {
   "cell_type": "code",
   "execution_count": 15,
   "id": "564d2245-c632-4a51-ba54-55eae537c47f",
   "metadata": {},
   "outputs": [
    {
     "data": {
      "image/png": "[encoded data removed]",
      "text/plain": [
       "<Figure size 640x480 with 1 Axes>"
      ]
     },
     "metadata": {},
     "output_type": "display_data"
    }
   ],
   "source": [
    "plot_fig(interval_list,entropy)"
   ]
  },
  {
   "cell_type": "markdown",
   "id": "b52b7aa1-0c65-4df3-b5c9-7e9b6701a6b5",
   "metadata": {},
   "source": [
    "### create dataset"
   ]
  },
  {
   "cell_type": "code",
   "execution_count": 16,
   "id": "926115d1-b4af-480a-ba0c-72fca9c6992f",
   "metadata": {},
   "outputs": [],
   "source": [
    "x_train = np.array([[1,1,1],\n",
    "                    [0,0,1],\n",
    "                    [0, 1, 0],\n",
    "                    [1, 0, 1],\n",
    "                    [1, 1, 1],\n",
    "                    [1, 1, 0],\n",
    "                    [0, 0, 0],\n",
    "                    [1, 1, 0],\n",
    "                    [0, 1, 0],\n",
    "                    [0, 1, 0]])\n",
    "                    \n",
    "y_train = np.array([1, 1, 0, 0, 1, 1, 0, 1, 0, 0])"
   ]
  },
  {
   "cell_type": "code",
   "execution_count": 17,
   "id": "fefe9d7d-b2c6-42bc-9682-996cf98bff75",
   "metadata": {},
   "outputs": [
    {
     "data": {
      "text/plain": [
       "array([1, 1, 1])"
      ]
     },
     "execution_count": 17,
     "metadata": {},
     "output_type": "execute_result"
    }
   ],
   "source": [
    "x_train[0]"
   ]
  },
  {
   "cell_type": "code",
   "execution_count": 18,
   "id": "132adc5b-9d72-4c86-9fae-5fc3694c5730",
   "metadata": {},
   "outputs": [
    {
     "name": "stdout",
     "output_type": "stream",
     "text": [
      "1.0\n"
     ]
    }
   ],
   "source": [
    "def entropy(p):\n",
    "    if p == 0 or p==1:\n",
    "        return 0\n",
    "    else:\n",
    "        return -p * np.log2(p) - (1-p)* np.log2(1-p)\n",
    "print(entropy(0.5))"
   ]
  },
  {
   "cell_type": "code",
   "execution_count": 21,
   "id": "f3aee6ff-3c93-4faf-8e59-8457d21ac878",
   "metadata": {},
   "outputs": [],
   "source": [
    "def split_indices (X, index_feature):\n",
    "    '''given a dataset and a index feature, return two lists for the two split nodes, the left node has the animals that have that \n",
    "    feature = 1 and the right node those that have the feature = 0\n",
    "        index_feature = 0 ==> ear shape\n",
    "        index_feature = 1 ==> face shape\n",
    "        index_feature = 2 ==> whiskers\n",
    "        '''\n",
    "    left_indices = []\n",
    "    right_indices = []\n",
    "    for i, x in enumerate(X):\n",
    "        if x[index_feature] ==1:\n",
    "            left_indices.append(i)\n",
    "        else:\n",
    "            right_indices.append(i)\n",
    "    return left_indices, right_indices"
   ]
  },
  {
   "cell_type": "code",
   "execution_count": 22,
   "id": "3f21e8fd-6854-450f-9e66-e4ace0ccc987",
   "metadata": {},
   "outputs": [
    {
     "data": {
      "text/plain": [
       "([0, 3, 4, 5, 7], [1, 2, 6, 8, 9])"
      ]
     },
     "execution_count": 22,
     "metadata": {},
     "output_type": "execute_result"
    }
   ],
   "source": [
    "split_indices(x_train,0)"
   ]
  },
  {
   "cell_type": "code",
   "execution_count": 45,
   "id": "b73fdfcb-6ba7-43f1-96ff-fd73883f44b9",
   "metadata": {},
   "outputs": [],
   "source": [
    "def weighted_entropy(x, y , left_indices , right_indices):\n",
    "    '''\n",
    "    this function takes the splited dataset, the indices we choose to split and returns the weighted entropy'''\n",
    "    #so now we have \n",
    "    w_right = len(right_indices)/len(x) #all of them are pointy \n",
    "    w_left = len(left_indices)/ len(x) #all of them are oval\n",
    "    p_left = sum(y[left_indices])/len(left_indices) #as they are labeled as 1 and 0, the sum only took the value that are labeled as 1 as well as only take the input that are cats\n",
    "    p_right = sum(y[right_indices])/len(right_indices)\n",
    "\n",
    "    weighted_entropy = w_left * entropy(p_left) + w_right * entropy(p_right)\n",
    "    return weighted_entropy"
   ]
  },
  {
   "cell_type": "code",
   "execution_count": 42,
   "id": "449297ca-9079-45b0-a349-745c47651a87",
   "metadata": {},
   "outputs": [],
   "source": [
    "left_indices, right_indices = split_indices(x_train,  0)"
   ]
  },
  {
   "cell_type": "code",
   "execution_count": 43,
   "id": "1bc4b7cd-e6fa-46f5-830f-ac165d988a0d",
   "metadata": {},
   "outputs": [
    {
     "name": "stdout",
     "output_type": "stream",
     "text": [
      "left_indices (Pointy) : [0, 3, 4, 5, 7]\n",
      "right_indices (Oval) : [1, 2, 6, 8, 9]\n"
     ]
    }
   ],
   "source": [
    "print(f\"left_indices (Pointy) : {left_indices}\")\n",
    "print(f\"right_indices (Oval) : {right_indices}\")"
   ]
  },
  {
   "cell_type": "code",
   "execution_count": 46,
   "id": "5dbb42bb-6e20-4fb0-9d30-bdbcb5e40b00",
   "metadata": {},
   "outputs": [
    {
     "data": {
      "text/plain": [
       "0.7219280948873623"
      ]
     },
     "execution_count": 46,
     "metadata": {},
     "output_type": "execute_result"
    }
   ],
   "source": [
    "#taken a specific feature\n",
    "weighted_entropy(x_train, y_train, left_indices, right_indices)"
   ]
  },
  {
   "cell_type": "code",
   "execution_count": 51,
   "id": "20630da3-97e3-4058-a518-81893bdc9d21",
   "metadata": {},
   "outputs": [
    {
     "name": "stdout",
     "output_type": "stream",
     "text": [
      "[1 0 1 1 1]\n",
      "4\n",
      "0.8\n"
     ]
    }
   ],
   "source": [
    "print(y_train[left_indices])\n",
    "\n",
    "print(sum(y_train[left_indices]))\n",
    "\n",
    "print(sum(y_train[left_indices])/len(left_indices))"
   ]
  },
  {
   "cell_type": "code",
   "execution_count": 58,
   "id": "c229e768-95db-47f8-8d76-7b04f4f130a1",
   "metadata": {},
   "outputs": [],
   "source": [
    "def information_gain(x, y, left_indices, right_indices):\n",
    "    p_node = sum(y)/len(y)\n",
    "    h_node = entropy(p_node) #the full set of x \n",
    "    w_entropy = weighted_entropy(x,y,left_indices,right_indices) #entropy of a specific node\n",
    "    information_gain = h_node - w_entropy\n",
    "    return information_gain\n",
    "    "
   ]
  },
  {
   "cell_type": "code",
   "execution_count": 59,
   "id": "1d4d1fee-bff3-4e94-ab53-084f8663ef9a",
   "metadata": {},
   "outputs": [
    {
     "data": {
      "text/plain": [
       "0.2780719051126377"
      ]
     },
     "execution_count": 59,
     "metadata": {},
     "output_type": "execute_result"
    }
   ],
   "source": [
    "information_gain(x_train, y_train,left_indices,right_indices)"
   ]
  },
  {
   "cell_type": "code",
   "execution_count": 60,
   "id": "24d6d163-45ff-4dac-9931-724e958fb8b6",
   "metadata": {},
   "outputs": [
    {
     "name": "stdout",
     "output_type": "stream",
     "text": [
      "Feature: Ear Shape, information gain if we split the root node using this feature : 0.28\n",
      "Feature: Face Shape, information gain if we split the root node using this feature : 0.36\n",
      "Feature: Whiskers, information gain if we split the root node using this feature : 0.09\n"
     ]
    }
   ],
   "source": [
    "for i, feature_name in enumerate(['Ear Shape' ,'Face Shape' , 'Whiskers']):\n",
    "    left_inices, right_indices = split_indices(x_train, i)\n",
    "    i_gain = information_gain(x_train, y_train, left_indices, right_indices)\n",
    "    print(f\"Feature: {feature_name}, information gain if we split the root node using this feature : {i_gain:.2f}\")"
   ]
  },
  {
   "cell_type": "code",
   "execution_count": null,
   "id": "1d1223d2-f384-4841-890a-e63e5baa2fb1",
   "metadata": {},
   "outputs": [],
   "source": []
  }
 ],
 "metadata": {
  "kernelspec": {
   "display_name": "Python 3 (ipykernel)",
   "language": "python",
   "name": "python3"
  },
  "language_info": {
   "codemirror_mode": {
    "name": "ipython",
    "version": 3
   },
   "file_extension": ".py",
   "mimetype": "text/x-python",
   "name": "python",
   "nbconvert_exporter": "python",
   "pygments_lexer": "ipython3",
   "version": "3.11.5"
  }
 },
 "nbformat": 4,
 "nbformat_minor": 5
}
