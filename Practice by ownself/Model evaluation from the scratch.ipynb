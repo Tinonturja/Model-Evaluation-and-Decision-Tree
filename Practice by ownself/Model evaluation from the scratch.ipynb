{
 "cells": [
  {
   "cell_type": "code",
   "execution_count": 146,
   "id": "cad52536-2af7-4c39-8d4e-95f3dff2b52b",
   "metadata": {},
   "outputs": [],
   "source": [
    "import numpy as np\n",
    "import pandas as pd\n",
    "\n",
    "#model selection, and evaluation\n",
    "from sklearn.model_selection import train_test_split\n",
    "from sklearn.linear_model import LinearRegression\n",
    "from sklearn.metrics import mean_squared_error\n",
    "from sklearn.preprocessing import StandardScaler, PolynomialFeatures\n",
    "\n",
    "#tensor flow model selection\n",
    "import tensorflow as tf\n",
    "\n",
    "# reduce display precision on numpy arrays\n",
    "np.set_printoptions(precision=2)\n",
    "\n",
    "# suppress warnings\n",
    "tf.get_logger().setLevel('ERROR')\n",
    "tf.autograph.set_verbosity(0)"
   ]
  },
  {
   "cell_type": "markdown",
   "id": "c039f866-2340-487a-86b6-67d333994454",
   "metadata": {},
   "source": [
    "##### Load the dataset"
   ]
  },
  {
   "cell_type": "code",
   "execution_count": 122,
   "id": "0d545f12-339f-4f96-8008-8a794c938c04",
   "metadata": {},
   "outputs": [
    {
     "name": "stdout",
     "output_type": "stream",
     "text": [
      "the shape of the inputs x is: (1275, 14) and dimension 2\n",
      "the shape of the targets y is: (1275, 1) and dimension 2\n"
     ]
    }
   ],
   "source": [
    "df = pd.read_csv('/Users/tinonturjamajumder/Downloads/laptop_price - dataset.csv' , encoding = 'latin-1')\n",
    "\n",
    "#split the dataset into dependant variable and independant variable\n",
    "X = df.drop(columns = ['Price (Euro)'])\n",
    "y = df['Price (Euro)']\n",
    "\n",
    "#convert 1-D arrays into 2-D because the commands later will require it\n",
    "\n",
    "y=np.expand_dims(y, axis = 1)\n",
    "print(f\"the shape of the inputs x is: {X.shape} and dimension {X.ndim}\")\n",
    "print(f\"the shape of the targets y is: {y.shape} and dimension {y.ndim}\")"
   ]
  },
  {
   "cell_type": "code",
   "execution_count": 123,
   "id": "70af4f88-cd07-4c8c-a9bf-517faf9dd83b",
   "metadata": {},
   "outputs": [
    {
     "name": "stdout",
     "output_type": "stream",
     "text": [
      "<class 'pandas.core.frame.DataFrame'>\n",
      "<class 'numpy.ndarray'>\n"
     ]
    }
   ],
   "source": [
    "print(type(X))\n",
    "print(type(y))"
   ]
  },
  {
   "cell_type": "markdown",
   "id": "eb4adc34-f556-484a-a0e9-c17cc0c6b8ec",
   "metadata": {},
   "source": [
    "##### Split the dataset"
   ]
  },
  {
   "cell_type": "code",
   "execution_count": 124,
   "id": "255fe606-7881-4889-828d-3334a7f537b9",
   "metadata": {},
   "outputs": [
    {
     "name": "stdout",
     "output_type": "stream",
     "text": [
      "The shape of Train data set : (765, 14)\n",
      "The shape of Train target data set : (765, 1)\n",
      "The shape of Test data set : (255, 14)\n",
      "The shape of Test data target set : (255, 1)\n",
      "The shape of cross validation data set : (255, 14)\n",
      "The shape of cross validation target data set : (255, 1)\n"
     ]
    }
   ],
   "source": [
    "X_train, x_, y_train, y_=train_test_split(X, y, random_state=16, test_size=0.4)\n",
    "\n",
    "print(f\"The shape of Train data set : {X_train.shape}\")\n",
    "print(f\"The shape of Train target data set : {y_train.shape}\")\n",
    "\n",
    "#split the remaining dataset equally into train and cross validation dataset\n",
    "x_cv, x_test, y_cv, y_test = train_test_split(x_, y_, random_state=16, test_size=0.5)\n",
    "print(f\"The shape of Test data set : {x_test.shape}\")\n",
    "print(f\"The shape of Test data target set : {y_test.shape}\")\n",
    "print(f\"The shape of cross validation data set : {x_cv.shape}\")\n",
    "print(f\"The shape of cross validation target data set : {y_cv.shape}\")"
   ]
  },
  {
   "cell_type": "markdown",
   "id": "c4772dea-411e-427c-831b-27ffe2990df3",
   "metadata": {},
   "source": [
    "##### NUmeric dataset seperation"
   ]
  },
  {
   "cell_type": "code",
   "execution_count": 125,
   "id": "25682aaa-cb45-48d5-8e03-548a944f5837",
   "metadata": {},
   "outputs": [],
   "source": [
    "numeric_features = X_train.select_dtypes(include=['number']).columns\n",
    "numeric_features_cv= x_cv.select_dtypes(include=['number']).columns\n",
    "\n",
    "#now only take the numeric dataset to scale\n",
    "X_train_numeric = X_train[numeric_features]\n",
    "x_cv_numeric = x_cv[numeric_features_cv]\n"
   ]
  },
  {
   "cell_type": "code",
   "execution_count": 126,
   "id": "994f0d04-6109-48ec-911c-22408cfdb2d2",
   "metadata": {},
   "outputs": [
    {
     "name": "stdout",
     "output_type": "stream",
     "text": [
      "training MSE (using sklearn function): 103489.68394597336\n"
     ]
    }
   ],
   "source": [
    "#scale the dataset\n",
    "scale_linear = StandardScaler()\n",
    "x_train_scaled = scale_linear.fit_transform(X_train_numeric)\n",
    "\n",
    "#now got the scaled model \n",
    "#train the model\n",
    "linear_model = LinearRegression()\n",
    "linear_model.fit(x_train_scaled,y_train)\n",
    "\n",
    "#predict\n",
    "yhat= linear_model.predict(x_train_scaled)\n",
    "\n",
    "#use scikit learn utility function and divite it by 2\n",
    "print(f\"training MSE (using sklearn function): {mean_squared_error(y_train, yhat)/2}\")\n",
    "\n"
   ]
  },
  {
   "cell_type": "markdown",
   "id": "0aaf0472-006e-40b6-a70b-997361aecd49",
   "metadata": {},
   "source": [
    "##### Train the cross validation set"
   ]
  },
  {
   "cell_type": "code",
   "execution_count": 127,
   "id": "25174d78-601e-4d17-aeb7-4115c8c10f44",
   "metadata": {},
   "outputs": [
    {
     "name": "stdout",
     "output_type": "stream",
     "text": [
      "training MSE (using sklearn function): 77487.1231712146\n"
     ]
    }
   ],
   "source": [
    "#scale the dataset\n",
    "x_cv_scaled = scale_linear.transform(x_cv_numeric)\n",
    "\n",
    "#now got the scaled model \n",
    "#train the model\n",
    "linear_model = LinearRegression()\n",
    "linear_model.fit(x_cv_scaled,y_cv)\n",
    "\n",
    "#predict\n",
    "yhat= linear_model.predict(x_cv_scaled)\n",
    "\n",
    "#use scikit learn utility function and divite it by 2\n",
    "print(f\"training MSE (using sklearn function): {mean_squared_error(y_cv, yhat)/2}\")\n",
    "\n"
   ]
  },
  {
   "cell_type": "markdown",
   "id": "004250f4-1243-4761-9939-5d4f94e71f50",
   "metadata": {},
   "source": [
    "##### Adding polynomial features"
   ]
  },
  {
   "cell_type": "code",
   "execution_count": 128,
   "id": "92ac36b8-31fc-43c2-b400-fc10111e3dd0",
   "metadata": {},
   "outputs": [
    {
     "name": "stdout",
     "output_type": "stream",
     "text": [
      "Degree: 1, Train_MSE: 103489.6839, CV_MSE: 81496.1450\n",
      "Degree: 2, Train_MSE: 82298.3878, CV_MSE: 80615.9395\n",
      "Degree: 3, Train_MSE: 66195.2575, CV_MSE: 74310.7949\n",
      "Degree: 4, Train_MSE: 56850.3004, CV_MSE: 390940.0940\n",
      "Degree: 5, Train_MSE: 45057.3119, CV_MSE: 881461.2061\n",
      "Degree: 6, Train_MSE: 36446.6984, CV_MSE: 163257117.9031\n",
      "Degree: 7, Train_MSE: 28557.5342, CV_MSE: 10817140715879647232.0000\n",
      "Degree: 8, Train_MSE: 21580.4316, CV_MSE: 6291558919854277632.0000\n",
      "Degree: 9, Train_MSE: 17279.5598, CV_MSE: 29928841040291071787008.0000\n",
      "Degree: 10, Train_MSE: 17095.8869, CV_MSE: 163943988053766257508352.0000\n"
     ]
    }
   ],
   "source": [
    "train_mses = []\n",
    "cv_mses = []\n",
    "\n",
    "for degree in range(1,11):\n",
    "    poly = PolynomialFeatures(degree, include_bias=False)\n",
    "    X_train_poly = poly.fit_transform(X_train_numeric)\n",
    "    x_cv_poly = poly.transform(x_cv_numeric)\n",
    "    #scale the data\n",
    "    scale_linear = StandardScaler()\n",
    "    x_train_scaled_final = scale_linear.fit_transform(X_train_poly)\n",
    "    x_cv_scaled_final = scale_linear.transform(x_cv_poly)\n",
    "    #call the model\n",
    "    linear_model = LinearRegression()\n",
    "\n",
    "    #train the model\n",
    "    linear_model.fit(x_train_scaled_final,y_train)\n",
    "\n",
    "    #predict the model\n",
    "    yhat = linear_model.predict(x_train_scaled_final)\n",
    "    yhat_cv = linear_model.predict(x_cv_scaled_final)\n",
    "    #cost calculation\n",
    "    train_mse = mean_squared_error(y_train, yhat)/2\n",
    "    cv_mse = mean_squared_error(y_cv, yhat_cv)/2\n",
    "\n",
    "    train_mses.append(train_mse)\n",
    "    cv_mses.append(cv_mse)\n",
    "\n",
    "    print(f\"Degree: {degree}, Train_MSE: {train_mse:.4f}, CV_MSE: {cv_mse:.4f}\")\n",
    "\n",
    "    "
   ]
  },
  {
   "cell_type": "code",
   "execution_count": 129,
   "id": "36f7f7fe-4d8a-4ecb-8471-f819216a9a79",
   "metadata": {},
   "outputs": [
    {
     "name": "stdout",
     "output_type": "stream",
     "text": [
      "Lowest CV MSE is found in the model with degree=3\n"
     ]
    }
   ],
   "source": [
    "degree = np.argmin(cv_mses)+1\n",
    "print(f\"Lowest CV MSE is found in the model with degree={degree}\")"
   ]
  },
  {
   "cell_type": "markdown",
   "id": "ec3bc124-8546-437c-be95-c7f617776f12",
   "metadata": {},
   "source": [
    "##### Work with the Test Data Set"
   ]
  },
  {
   "cell_type": "code",
   "execution_count": 130,
   "id": "1c846b0a-9e43-4f01-88ed-9a9930af3199",
   "metadata": {},
   "outputs": [
    {
     "name": "stdout",
     "output_type": "stream",
     "text": [
      "Test MSE: 78443.95\n"
     ]
    }
   ],
   "source": [
    "# Fit PolynomialFeatures on the training data\n",
    "polis = PolynomialFeatures(degree=3, include_bias=False, interaction_only=False)\n",
    "X_train_poly = polis.fit_transform(X_train_numeric)  # Fit and transform on training data\n",
    "\n",
    "# Transform the cross-validation and test data using the same fitted polynomial transformation\n",
    "x_cv_poly = polis.transform(x_cv_numeric)\n",
    "x_test_mapped = polis.transform(x_test_numeric)\n",
    "\n",
    "# Scale the data\n",
    "scale_linear = StandardScaler()\n",
    "x_train_scaled_final = scale_linear.fit_transform(X_train_poly)\n",
    "x_cv_scaled_final = scale_linear.transform(x_cv_poly)\n",
    "x_test_mapped_scaled = scale_linear.transform(x_test_mapped)\n",
    "\n",
    "# Initialize and train the Linear Regression model\n",
    "linear_model = LinearRegression()\n",
    "linear_model.fit(x_train_scaled_final, y_train)\n",
    "\n",
    "# Predict the test set\n",
    "yhat = linear_model.predict(x_test_mapped_scaled)\n",
    "\n",
    "# Compute the Test MSE\n",
    "test_mse = mean_squared_error(y_test, yhat) / 2\n",
    "\n",
    "print(f\"Test MSE: {test_mse:.2f}\")\n"
   ]
  },
  {
   "cell_type": "markdown",
   "id": "5261aa22-b4ff-4a0c-b256-72692a307178",
   "metadata": {},
   "source": [
    "## Neural Networks"
   ]
  },
  {
   "cell_type": "markdown",
   "id": "87d09317-0f8f-4140-a694-26f1a6760478",
   "metadata": {},
   "source": [
    "##### Add polynomial Features"
   ]
  },
  {
   "cell_type": "code",
   "execution_count": 131,
   "id": "8a310b33-3f2c-48ad-b3e5-306ff070e394",
   "metadata": {},
   "outputs": [],
   "source": [
    "degree = 1\n",
    "poly = PolynomialFeatures(degree, include_bias=False)\n",
    "x_train_mapped = poly.fit_transform(X_train_numeric)\n",
    "x_cv_mapped = poly.transform(x_cv_numeric)\n",
    "x_test_mapped = poly.transform(x_test_numeric)"
   ]
  },
  {
   "cell_type": "markdown",
   "id": "0769f408-1481-479a-bd57-7e708bf21d2f",
   "metadata": {},
   "source": [
    "##### Scale the features using Z-score"
   ]
  },
  {
   "cell_type": "code",
   "execution_count": 132,
   "id": "813ef3f1-8506-45b3-b0a7-2b895f600a96",
   "metadata": {},
   "outputs": [],
   "source": [
    "scaler = StandardScaler()\n",
    "X_train_mapped_scaled = scaler.fit_transform(x_train_mapped)\n",
    "X_cv_mapped_scaled = scaler.transform(x_cv_mapped)\n",
    "X_test_mapped_scaled = scaler.transform(x_test_mapped)"
   ]
  },
  {
   "cell_type": "markdown",
   "id": "fc17e67d-cb44-4d9d-80f3-8fe8036688ab",
   "metadata": {},
   "source": [
    "### Build and train the models"
   ]
  },
  {
   "cell_type": "code",
   "execution_count": 133,
   "id": "8560f39b-72f6-46a3-a9f0-4afb0f0b4249",
   "metadata": {},
   "outputs": [],
   "source": [
    "import tensorflow as tf\n",
    "from tensorflow.keras.models import Sequential\n",
    "from tensorflow.keras.layers import Dense"
   ]
  },
  {
   "cell_type": "code",
   "execution_count": 134,
   "id": "9c4e12b0-ead0-4242-a8d6-e166cc45f16a",
   "metadata": {},
   "outputs": [],
   "source": [
    "def build_models():\n",
    "    tf.random.set_seed(16)\n",
    "    model_1 = Sequential (\n",
    "        [\n",
    "            Dense(25, activation = 'relu'),\n",
    "            Dense(16, activation = 'relu'),\n",
    "            Dense(1, activation = 'linear')\n",
    "        ], name= 'model_1'\n",
    "    )\n",
    "    model_2 = Sequential (\n",
    "        [\n",
    "            Dense(20, activation = 'relu'),\n",
    "            Dense(12, activation = 'relu'),\n",
    "            Dense(12, activation = 'relu'),\n",
    "            Dense(20, activation = 'relu'),\n",
    "            Dense(1, activation = 'linear')\n",
    "        ],\n",
    "        name='model_2'\n",
    "    )\n",
    "    model_3 = Sequential(\n",
    "        [\n",
    "            Dense(32, activation = 'relu'),\n",
    "            Dense(16, activation = 'relu'),\n",
    "            Dense(8, activation = 'relu'),\n",
    "            Dense(4, activation = 'relu'),\n",
    "            Dense(12, activation = 'relu'),\n",
    "            Dense(1, activation = 'linear')\n",
    "        ],\n",
    "        name='model_3'\n",
    "    )\n",
    "    \n",
    "    model_list = [model_1, model_2, model_3]\n",
    "    \n",
    "    return model_list\n",
    "\n",
    "    "
   ]
  },
  {
   "cell_type": "code",
   "execution_count": 135,
   "id": "80a67553-15ac-4532-afee-ccd56e07ab83",
   "metadata": {},
   "outputs": [
    {
     "name": "stdout",
     "output_type": "stream",
     "text": [
      " Training model_1...\n",
      "Done!\n",
      "\n",
      "24/24 [==============================] - 0s 246us/step\n",
      "8/8 [==============================] - 0s 318us/step\n",
      " Training model_2...\n",
      "Done!\n",
      "\n",
      "24/24 [==============================] - 0s 296us/step\n",
      "8/8 [==============================] - 0s 341us/step\n",
      " Training model_3...\n",
      "Done!\n",
      "\n",
      "24/24 [==============================] - 0s 272us/step\n",
      "8/8 [==============================] - 0s 359us/step\n",
      "Results:\n",
      "Model 1: Training MSE:  77097.20, CV MSE:  66952.85\n",
      "Model 2: Training MSE:  78810.40, CV MSE:  76852.33\n",
      "Model 3: Training MSE:  79085.15, CV MSE:  71681.95\n"
     ]
    }
   ],
   "source": [
    "#initialize lists that will contain the errors for each model \n",
    "nn_train_mses = []\n",
    "nn_cv_mses = []\n",
    "\n",
    "#build the models\n",
    "nn_models = build_models()\n",
    "\n",
    "for model in nn_models:\n",
    "    #model1\n",
    "    #model2\n",
    "    #model3\n",
    "\n",
    "\n",
    "    #set up the loss and optimizer\n",
    "    model.compile(\n",
    "        loss = 'mse',\n",
    "        optimizer = tf.keras.optimizers.legacy.Adam(learning_rate = 0.01), \n",
    "    )\n",
    "\n",
    "    print(f\" Training {model.name}...\")\n",
    "\n",
    "\n",
    "\n",
    "    #Train the model\n",
    "    model.fit (\n",
    "        X_train_mapped_scaled , y_train, \n",
    "        epochs = 300, \n",
    "        verbose = 0\n",
    "    )\n",
    "\n",
    "    print(\"Done!\\n\")\n",
    "\n",
    "    #record the training MSEs\n",
    "    yhat = model.predict(X_train_mapped_scaled)\n",
    "    train_mse = mean_squared_error(y_train,yhat)/2\n",
    "    nn_train_mses.append(train_mse)\n",
    "\n",
    "\n",
    "    #record the cross validation MSEs\n",
    "    yhat = model.predict(X_cv_mapped_scaled)\n",
    "    cv_mse = mean_squared_error(y_cv, yhat)/2\n",
    "    nn_cv_mses.append(cv_mse)\n",
    "\n",
    "\n",
    "\n",
    "    #print results\n",
    "print('Results:')\n",
    "for model_num in range(len(nn_train_mses)):\n",
    "    print(\n",
    "        f\"Model {model_num+1}: Training MSE: {nn_train_mses[model_num]: .2f},\" +\n",
    "        f\" CV MSE: {nn_cv_mses[model_num]: .2f}\"\n",
    "    )"
   ]
  },
  {
   "cell_type": "code",
   "execution_count": 136,
   "id": "aa919851-1e33-4422-a397-8f5165118ce7",
   "metadata": {},
   "outputs": [
    {
     "name": "stdout",
     "output_type": "stream",
     "text": [
      "8/8 [==============================] - 0s 889us/step\n",
      "Selected Model: 3\n",
      "Training MSE: 79085.15\n",
      "Cross Validation MSE: 71681.95\n",
      "Test MSE: 87031.74\n"
     ]
    }
   ],
   "source": [
    "#select the model with the lowest CV MSE\n",
    "model_num = 3\n",
    "#compute the test MSE\n",
    "yhat = nn_models[model_num-1].predict(X_test_mapped_scaled)\n",
    "test_mse = mean_squared_error(y_test, yhat)/2\n",
    "\n",
    "print(f\"Selected Model: {model_num}\")\n",
    "print(f\"Training MSE: {nn_train_mses[model_num-1]:.2f}\")\n",
    "print(f\"Cross Validation MSE: {nn_cv_mses[model_num-1]:.2f}\")\n",
    "print(f\"Test MSE: {test_mse:.2f}\")"
   ]
  },
  {
   "cell_type": "markdown",
   "id": "b24567c8-41d9-4883-b45f-f3aee87205be",
   "metadata": {},
   "source": [
    "## Classification"
   ]
  },
  {
   "cell_type": "code",
   "execution_count": 137,
   "id": "00d25d32-0525-4ca7-93b4-7dd90ceda1a8",
   "metadata": {},
   "outputs": [],
   "source": [
    "#import the necessities\n",
    "import numpy as np\n",
    "import pandas as pd\n",
    "import tensorflow as tf\n",
    "\n",
    "from sklearn.model_selection import train_test_split\n",
    "from sklearn.linear_model import LinearRegression\n",
    "from sklearn.metrics import mean_squared_error\n",
    "\n",
    "import matplotlib.pyplot as plt\n",
    "\n",
    "import tensorflow as tf\n"
   ]
  },
  {
   "cell_type": "markdown",
   "id": "35330aa6-86f9-4e0c-bb20-8b02675ac2e3",
   "metadata": {},
   "source": [
    "### Load the dataset"
   ]
  },
  {
   "cell_type": "code",
   "execution_count": 138,
   "id": "a73dc794-977d-44fd-8c27-9efb27f42820",
   "metadata": {},
   "outputs": [
    {
     "name": "stdout",
     "output_type": "stream",
     "text": [
      "the shape of the inputs x is: (200, 2)\n",
      "the shape of the targets y is: (200, 1)\n"
     ]
    }
   ],
   "source": [
    "data = np.loadtxt('/Users/tinonturjamajumder/Machine learning Specialization /Advanced Learning Algorithm /week 3/Files/home/jovyan/work/data/data_w3_ex2.csv', delimiter = ',')\n",
    "\n",
    "#split the inputs and outputs into separate arrays\n",
    "x_bc = data[:, :-1] #all rows and all columns except the final column\n",
    "y_bc = data[:, -1] #all rows and only the last column\n",
    "\n",
    "#convert y into 2_D\n",
    "y_bc = np.expand_dims(y_bc, axis=1)\n",
    "print(f\"the shape of the inputs x is: {x_bc.shape}\")\n",
    "print(f\"the shape of the targets y is: {y_bc.shape}\")"
   ]
  },
  {
   "cell_type": "markdown",
   "id": "2a6c3fa6-d5e7-422f-98f6-f11080abadb4",
   "metadata": {},
   "source": [
    "#### visualize the dataset"
   ]
  },
  {
   "cell_type": "code",
   "execution_count": 139,
   "id": "fd2ccbb4-eb0b-4076-9cb9-71db0e7b3ad7",
   "metadata": {},
   "outputs": [],
   "source": [
    "def plot_dataset(x, y, title):\n",
    "    for i in range(len(y)):\n",
    "        marker = 'x' if y[i] == 1 else 'o'\n",
    "        c = 'r' if y[i] == 1 else 'b'\n",
    "        plt.scatter(x[i,0], x[i,1], marker = marker, c=c);\n",
    "    plt.title('x1 vs x2')\n",
    "    plt.xlabel('x1')\n",
    "    plt.ylabel('x2')\n",
    "    plt.show()\n",
    "    "
   ]
  },
  {
   "cell_type": "code",
   "execution_count": 140,
   "id": "54754096-dbdf-40a6-a7a4-7813204b8a8f",
   "metadata": {},
   "outputs": [
    {
     "data": {
      "image/png": "[encoded data removed]",
      "text/plain": [
       "<Figure size 640x480 with 1 Axes>"
      ]
     },
     "metadata": {},
     "output_type": "display_data"
    }
   ],
   "source": [
    "plot_dataset(x=x_bc, y=y_bc , title = 'x1 vs. x2')"
   ]
  },
  {
   "cell_type": "markdown",
   "id": "5bbf7902-1ac1-4249-8d36-04d9515a2ffb",
   "metadata": {},
   "source": [
    "#### Split the dataset"
   ]
  },
  {
   "cell_type": "code",
   "execution_count": 141,
   "id": "898b7f41-edd0-4fad-9da2-372fbbb6d788",
   "metadata": {},
   "outputs": [
    {
     "name": "stdout",
     "output_type": "stream",
     "text": [
      "the shape of the training set (input) is: (120, 2)\n",
      "the shape of the training set (target) is: (120, 1)\n",
      "\n",
      "the shape of the cross validation set (input) is: (40, 2)\n",
      "the shape of the cross validation set (target) is: (40, 1)\n",
      "\n",
      "the shape of the test set (input) is: (40, 2)\n",
      "the shape of the test set (target) is: (40, 1)\n"
     ]
    }
   ],
   "source": [
    "x_bc_train , x_, y_bc_train, y_ = train_test_split(x_bc,y_bc, random_state=16, test_size=0.4)\n",
    "\n",
    "#now split the test data set equally into test and cross validation dataset\n",
    "x_bc_cv, x_bc_test, y_bc_cv, y_bc_test = train_test_split(x_,y_, random_state=16, test_size=0.5)\n",
    "\n",
    "#delete the intermediate variable\n",
    "del x_,y_\n",
    "\n",
    "\n",
    "print(f\"the shape of the training set (input) is: {x_bc_train.shape}\")\n",
    "print(f\"the shape of the training set (target) is: {y_bc_train.shape}\\n\")\n",
    "print(f\"the shape of the cross validation set (input) is: {x_bc_cv.shape}\")\n",
    "print(f\"the shape of the cross validation set (target) is: {y_bc_cv.shape}\\n\")\n",
    "print(f\"the shape of the test set (input) is: {x_bc_test.shape}\")\n",
    "print(f\"the shape of the test set (target) is: {y_bc_test.shape}\")"
   ]
  },
  {
   "cell_type": "code",
   "execution_count": 142,
   "id": "66d6286e-390d-4a92-af32-490bf3a1cb50",
   "metadata": {},
   "outputs": [],
   "source": [
    "#scale the features\n",
    "\n",
    "#initialize the class\n",
    "scaler_linear = StandardScaler()\n",
    "\n",
    "#compute the mean and std of the training set \n",
    "x_bc_train_scaled= scaler_linear.fit_transform(x_bc_train)\n",
    "x_bc_cv_scaled = scaler_linear.transform(x_bc_cv)\n",
    "x_bc_test_scaled = scaler_linear.transform(x_bc_test)"
   ]
  },
  {
   "cell_type": "markdown",
   "id": "42646065-b34c-4a09-9763-ba8f1a912800",
   "metadata": {},
   "source": [
    "##### Evaluating the error for classification models"
   ]
  },
  {
   "cell_type": "code",
   "execution_count": 143,
   "id": "79f0ecfa-41bf-4fd6-879a-644daf22eae6",
   "metadata": {},
   "outputs": [
    {
     "name": "stdout",
     "output_type": "stream",
     "text": [
      "probabilities: [0.2 0.6 0.7 0.3 0.8]\n",
      "predictions with threshold=0.5: [0 1 1 0 1]\n",
      "targets: [1 1 1 1 1]\n",
      "fraction of misclassified data (for-loop): 0.4\n",
      "fraction of misclassified data (with np.mean()): 0.4\n"
     ]
    }
   ],
   "source": [
    "#sample model output\n",
    "probabilities = np.array ([ 0.2, 0.6,0.7,0.3,0.8])\n",
    "\n",
    "#apply a threshold to the model output. If greater than 0.5 set to 1. Else 0\n",
    "predictions = np.where(probabilities >= 0.5,1, 0)\n",
    "\n",
    "#ground truth labels\n",
    "ground_truth = np.array([1,1,1,1,1])\n",
    "\n",
    "#initialize counter for misclassified data\n",
    "misclassified = 0\n",
    "\n",
    "#get number of predicitons\n",
    "num_predictions = len(predictions)\n",
    "\n",
    "#get number of predictions\n",
    "for i in range(num_predictions):\n",
    "\n",
    "    #check if it matches the ground truth\n",
    "    if predictions[i] != ground_truth[i]:\n",
    "\n",
    "        #add one to the counter if the prediction is wrong\n",
    "        misclassified +=1\n",
    "#compute the fraction of the data that the model misclassified\n",
    "fraction_error = misclassified/num_predictions\n",
    "\n",
    "print(f\"probabilities: {probabilities}\")\n",
    "print(f\"predictions with threshold=0.5: {predictions}\")\n",
    "print(f\"targets: {ground_truth}\")\n",
    "print(f\"fraction of misclassified data (for-loop): {fraction_error}\")\n",
    "print(f\"fraction of misclassified data (with np.mean()): {np.mean(predictions != ground_truth)}\")"
   ]
  },
  {
   "cell_type": "code",
   "execution_count": 144,
   "id": "bce3ffb1-ca17-488e-95f6-02ab20e6f064",
   "metadata": {},
   "outputs": [
    {
     "name": "stdout",
     "output_type": "stream",
     "text": [
      "Training model_1\n",
      "Done!\n",
      "\n",
      "4/4 [==============================] - 0s 416us/step\n",
      "2/2 [==============================] - 0s 852us/step\n",
      "Training model_2\n",
      "Done!\n",
      "\n",
      "4/4 [==============================] - 0s 507us/step\n",
      "2/2 [==============================] - 0s 959us/step\n",
      "Training model_3\n",
      "Done!\n",
      "\n",
      "4/4 [==============================] - 0s 470us/step\n",
      "2/2 [==============================] - 0s 665us/step\n",
      "Model 1: Training Set Classification Error: 0.08333, CV Set Classification Error: 0.12500\n",
      "Model 2: Training Set Classification Error: 0.07500, CV Set Classification Error: 0.10000\n",
      "Model 3: Training Set Classification Error: 0.04167, CV Set Classification Error: 0.17500\n"
     ]
    }
   ],
   "source": [
    "#initialize lists that will contain error for each model\n",
    "nn_train_error = []\n",
    "nn_cv_error = []\n",
    "\n",
    "#build the models\n",
    "model_bc = build_models()\n",
    "\n",
    "for model in model_bc:\n",
    "\n",
    "\n",
    "    #error and loss\n",
    "    model.compile(\n",
    "    loss = tf.keras.losses.BinaryCrossentropy(from_logits=True),\n",
    "    optimizer = tf.keras.optimizers.legacy.Adam(learning_rate=0.01),\n",
    "    )\n",
    "\n",
    "    print(f\"Training {model.name}\")\n",
    "\n",
    "\n",
    "    #train the model\n",
    "    model.fit(\n",
    "        x_bc_train_scaled,y_bc_train,\n",
    "        epochs = 200, \n",
    "        verbose = 0\n",
    "    )\n",
    "    print(\"Done!\\n\")\n",
    "\n",
    "\n",
    "    #set the threshold for classification\n",
    "    threshold = 0.5\n",
    "\n",
    "    #record the fraction of misclassified examples for the training \n",
    "    yhat = model.predict(x_bc_train_scaled)\n",
    "    yhat = tf.math.sigmoid(yhat)\n",
    "    yhat = np.where(yhat >= threshold, 1, 0)\n",
    "    train_error = np.mean(yhat != y_bc_train)\n",
    "    nn_train_error.append(train_error)\n",
    "\n",
    "    #record the fraction of misclassified examples for the cross validation\n",
    "    yhat = model.predict(x_bc_cv_scaled)\n",
    "    yhat = tf.math.sigmoid(yhat)\n",
    "    yhat = np.where(yhat >= threshold, 1, 0)\n",
    "    cv_error = np.mean(yhat != y_bc_cv)\n",
    "    nn_cv_error.append(cv_error)\n",
    "\n",
    "\n",
    "#print the result\n",
    "for model_num in range(len(nn_train_error)):\n",
    "    print(\n",
    "        f\"Model {model_num+1}: Training Set Classification Error: {nn_train_error[model_num]:.5f}, \" +\n",
    "        f\"CV Set Classification Error: {nn_cv_error[model_num]:.5f}\"\n",
    "        )"
   ]
  },
  {
   "cell_type": "code",
   "execution_count": 145,
   "id": "90be3ec8-db7a-49c2-afb3-8a50129daf9f",
   "metadata": {},
   "outputs": [
    {
     "name": "stdout",
     "output_type": "stream",
     "text": [
      "2/2 [==============================] - 0s 842us/step\n",
      "Selected Model: 3\n",
      "Training Set Classification Error: 0.0417\n",
      "CV Set Classification Error: 0.1750\n",
      "Test Set Classification Error: 0.1750\n"
     ]
    }
   ],
   "source": [
    "#select the model with lowest error\n",
    "model_num = 3\n",
    "\n",
    "#compute the test error\n",
    "yhat = model_bc[model_num-1].predict(x_bc_test_scaled)\n",
    "yhat = tf.math.sigmoid(yhat)\n",
    "yhat = np.where(yhat >= threshold, 1, 0)\n",
    "nn_test_error = np.mean(yhat != y_bc_test)\n",
    "\n",
    "print(f\"Selected Model: {model_num}\")\n",
    "print(f\"Training Set Classification Error: {nn_train_error[model_num-1]:.4f}\")\n",
    "print(f\"CV Set Classification Error: {nn_cv_error[model_num-1]:.4f}\")\n",
    "print(f\"Test Set Classification Error: {nn_test_error:.4f}\")"
   ]
  },
  {
   "cell_type": "code",
   "execution_count": null,
   "id": "0c5f4220-505d-4b28-80b8-e759e284b50a",
   "metadata": {},
   "outputs": [],
   "source": []
  }
 ],
 "metadata": {
  "kernelspec": {
   "display_name": "Python 3 (ipykernel)",
   "language": "python",
   "name": "python3"
  },
  "language_info": {
   "codemirror_mode": {
    "name": "ipython",
    "version": 3
   },
   "file_extension": ".py",
   "mimetype": "text/x-python",
   "name": "python",
   "nbconvert_exporter": "python",
   "pygments_lexer": "ipython3",
   "version": "3.11.5"
  }
 },
 "nbformat": 4,
 "nbformat_minor": 5
}
