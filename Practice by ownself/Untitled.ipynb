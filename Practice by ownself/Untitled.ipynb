{
 "cells": [
  {
   "cell_type": "code",
   "execution_count": 179,
   "id": "e3097651-a550-48f0-96ef-89c6be4f88e8",
   "metadata": {},
   "outputs": [],
   "source": [
    "import time"
   ]
  },
  {
   "cell_type": "code",
   "execution_count": 1,
   "id": "c377bfcf-5d81-4d44-b459-e617faf54362",
   "metadata": {},
   "outputs": [],
   "source": [
    "x1 = [3,4,5,6,2]\n",
    "x2 = [8,5,7,3,1]\n",
    "y = [-3.7,3.5,2.5,11.5,5.7]\n"
   ]
  },
  {
   "cell_type": "code",
   "execution_count": 7,
   "id": "17aa68e8-6db4-4ca3-a457-43e055154c1b",
   "metadata": {},
   "outputs": [],
   "source": [
    "def multi(a,b):\n",
    "    x1y = []\n",
    "    for i in range(len(a)):\n",
    "        multi = a[i] * b[i]\n",
    "        x1y.append(multi)\n",
    "    return x1y"
   ]
  },
  {
   "cell_type": "code",
   "execution_count": 6,
   "id": "f4d1a710-e350-46cc-987b-3dd959bb5450",
   "metadata": {},
   "outputs": [
    {
     "data": {
      "text/plain": [
       "[-11.100000000000001, 14.0, 12.5, 69.0, 11.4]"
      ]
     },
     "execution_count": 6,
     "metadata": {},
     "output_type": "execute_result"
    }
   ],
   "source": [
    "x1y"
   ]
  },
  {
   "cell_type": "code",
   "execution_count": 8,
   "id": "bfb9ac53-1107-425c-988a-4577fb1049f6",
   "metadata": {},
   "outputs": [
    {
     "data": {
      "text/plain": [
       "[-29.6, 17.5, 17.5, 34.5, 5.7]"
      ]
     },
     "execution_count": 8,
     "metadata": {},
     "output_type": "execute_result"
    }
   ],
   "source": [
    "multi(x2,y)"
   ]
  },
  {
   "cell_type": "code",
   "execution_count": 9,
   "id": "be172aa5-ad9c-4e52-9f1c-1ec27beb2dac",
   "metadata": {},
   "outputs": [
    {
     "data": {
      "text/plain": [
       "[24, 20, 35, 18, 2]"
      ]
     },
     "execution_count": 9,
     "metadata": {},
     "output_type": "execute_result"
    }
   ],
   "source": [
    "multi(x1,x2)"
   ]
  },
  {
   "cell_type": "code",
   "execution_count": 12,
   "id": "c7dda4e1-22f5-4fe0-a793-c62142c455ee",
   "metadata": {},
   "outputs": [
    {
     "data": {
      "text/plain": [
       "90"
      ]
     },
     "execution_count": 12,
     "metadata": {},
     "output_type": "execute_result"
    }
   ],
   "source": [
    "sum(multi(x1,x1))"
   ]
  },
  {
   "cell_type": "code",
   "execution_count": 11,
   "id": "d6a9b5bf-22e9-4393-b8a1-f7ac5731f2e1",
   "metadata": {},
   "outputs": [
    {
     "data": {
      "text/plain": [
       "[64, 25, 49, 9, 1]"
      ]
     },
     "execution_count": 11,
     "metadata": {},
     "output_type": "execute_result"
    }
   ],
   "source": [
    "multi(x2,x2)"
   ]
  },
  {
   "cell_type": "code",
   "execution_count": 18,
   "id": "98344dcf-b39b-444a-9b99-e79588821645",
   "metadata": {},
   "outputs": [
    {
     "name": "stdout",
     "output_type": "stream",
     "text": [
      "the name of the winner is:  {'tinon'}\n"
     ]
    }
   ],
   "source": [
    "work_hours = [('tinon', 1000), ('tori', 450), ('rita', 300)]\n",
    "max_hours = 0\n",
    "for name,hours in work_hours:\n",
    "    \n",
    "    if hours>max_hours:\n",
    "        max_hours=hours\n",
    "        winner_name = name\n",
    "print('the name of the winner is: ', {winner_name})\n",
    "    "
   ]
  },
  {
   "cell_type": "code",
   "execution_count": 28,
   "id": "862ad7bd-ea59-4f44-88e4-b4b78c8bad94",
   "metadata": {},
   "outputs": [],
   "source": [
    "#write a function which takes a list and returns true if it contains 007 in order\n",
    "def order_check(list):\n",
    "    for a,x in enumerate(list):\n",
    "        if x==0:\n",
    "            print(a)\n",
    "            print('true')\n",
    "            \n",
    "    else:\n",
    "        print('False')"
   ]
  },
  {
   "cell_type": "code",
   "execution_count": 30,
   "id": "539abf37-95b7-4269-b73c-b799dbbe83be",
   "metadata": {},
   "outputs": [
    {
     "name": "stdout",
     "output_type": "stream",
     "text": [
      "true\n",
      "true\n",
      "False\n"
     ]
    }
   ],
   "source": [
    "list= [1,2,3,0,4,5,6,0]\n",
    "order_check(list)"
   ]
  },
  {
   "cell_type": "code",
   "execution_count": 23,
   "id": "7c567c42-932c-4439-ad30-35f18d7b6ab9",
   "metadata": {},
   "outputs": [
    {
     "name": "stdout",
     "output_type": "stream",
     "text": [
      "1\n",
      "2\n",
      "3\n",
      "4\n",
      "5\n",
      "6\n"
     ]
    }
   ],
   "source": [
    "for a, x in enumerate(list):\n",
    "    print(x)"
   ]
  },
  {
   "cell_type": "code",
   "execution_count": 31,
   "id": "ef2eaa7f-0e9f-4fb9-a4c0-6bd589ffd042",
   "metadata": {},
   "outputs": [],
   "source": [
    "def spy_game(nums):\n",
    "    zero_counter = 0\n",
    "    for number in nums:\n",
    "        if number == 0:\n",
    "            zero_counter += 1\n",
    "        elif number == 7 and zero_counter >= 2:\n",
    "            return True\n",
    "    return False"
   ]
  },
  {
   "cell_type": "code",
   "execution_count": 33,
   "id": "7bef1b45-2e1b-4a2a-8716-5ee9f0248a00",
   "metadata": {},
   "outputs": [
    {
     "data": {
      "text/plain": [
       "False"
      ]
     },
     "execution_count": 33,
     "metadata": {},
     "output_type": "execute_result"
    }
   ],
   "source": [
    "lis= [1,2,4,0,4,5,7,0,0]\n",
    "  spy_game(lis)"
   ]
  },
  {
   "cell_type": "code",
   "execution_count": 181,
   "id": "423589ad-b463-4f69-83fc-0a33976084d3",
   "metadata": {},
   "outputs": [
    {
     "name": "stdout",
     "output_type": "stream",
     "text": [
      "Total time: 0.0012011528015136719\n"
     ]
    }
   ],
   "source": [
    "#fill in the line class method to accepts coordinates as a pair of tuples and return the slope and distance of the line\n",
    "str = time.time()\n",
    "class LineDistance():\n",
    "    def __init__(self, cor1, cor2):\n",
    "        self.cor1 =cor1\n",
    "        self.cor2 = cor2\n",
    "        \n",
    "    def distance(self):\n",
    "        x1,y1 = self.cor1\n",
    "        x2,y2 = self.cor2\n",
    "        distance = ((x1-x2)**2+(y1-y2)**2)**0.5\n",
    "        print(f\"distance between two points is {distance:.2f}\")\n",
    "\n",
    "    \n",
    "    def solpe(self):\n",
    "        x1,y1 = self.cor1\n",
    "        x2,y2 = self.cor2\n",
    "        return (self.y2-self.y1)/(self.x2-self.x1)\n",
    "end = time.time()\n",
    "total_time = end-str\n",
    "print(f\"Total time: {total_time}\")      "
   ]
  },
  {
   "cell_type": "code",
   "execution_count": 107,
   "id": "a823deee-0040-4346-a68d-49fd643dc437",
   "metadata": {},
   "outputs": [],
   "source": [
    "line = LineDistance((2,3),(4,5))"
   ]
  },
  {
   "cell_type": "code",
   "execution_count": 108,
   "id": "08d13dd3-a080-4851-8667-1bf5e22557bc",
   "metadata": {},
   "outputs": [
    {
     "name": "stdout",
     "output_type": "stream",
     "text": [
      "distance between two points is 2.83\n"
     ]
    }
   ],
   "source": [
    "line.distance()"
   ]
  },
  {
   "cell_type": "code",
   "execution_count": 180,
   "id": "ed541773-aa22-44ef-85f7-3f06e3827ad0",
   "metadata": {},
   "outputs": [
    {
     "name": "stdout",
     "output_type": "stream",
     "text": [
      "Total time: 0.0013089179992675781\n"
     ]
    }
   ],
   "source": [
    "str = time.time()\n",
    "class Cylinder():\n",
    "    pi = 3.14\n",
    "    def __init__(self, radius, height):\n",
    "        self.radius = radius\n",
    "        self.height = height\n",
    "    def area(self):\n",
    "        return 2*Cylinder.pi*self.radius*self.height\n",
    "    def volume(self):\n",
    "        return Cylinder.pi*self.radius*self.radius* self.height\n",
    "end = time.time()\n",
    "total_time = end-str\n",
    "print(f\"Total time: {total_time}\")"
   ]
  },
  {
   "cell_type": "code",
   "execution_count": 117,
   "id": "add4a5f9-b6a9-417d-b1cd-f7a3d372e9ef",
   "metadata": {},
   "outputs": [],
   "source": [
    "cylinder = Cylinder(4,6)"
   ]
  },
  {
   "cell_type": "code",
   "execution_count": 118,
   "id": "c21afcac-6374-40ed-b50e-1b845fcd61a6",
   "metadata": {},
   "outputs": [
    {
     "data": {
      "text/plain": [
       "150.72"
      ]
     },
     "execution_count": 118,
     "metadata": {},
     "output_type": "execute_result"
    }
   ],
   "source": [
    "cylinder.area()"
   ]
  },
  {
   "cell_type": "code",
   "execution_count": 119,
   "id": "ae7e5ec4-60dc-4532-8aa3-26f78d450006",
   "metadata": {},
   "outputs": [
    {
     "data": {
      "text/plain": [
       "301.44"
      ]
     },
     "execution_count": 119,
     "metadata": {},
     "output_type": "execute_result"
    }
   ],
   "source": [
    "cylinder.volume()"
   ]
  },
  {
   "cell_type": "code",
   "execution_count": 121,
   "id": "d191099d-ad88-46c6-a6e9-bfdd17c69ac6",
   "metadata": {},
   "outputs": [],
   "source": [
    "def func():\n",
    "    return 1"
   ]
  },
  {
   "cell_type": "code",
   "execution_count": 122,
   "id": "be0da6cc-0c8e-467a-9520-0b17a42c1e7c",
   "metadata": {},
   "outputs": [
    {
     "data": {
      "text/plain": [
       "1"
      ]
     },
     "execution_count": 122,
     "metadata": {},
     "output_type": "execute_result"
    }
   ],
   "source": [
    "func()"
   ]
  },
  {
   "cell_type": "code",
   "execution_count": 123,
   "id": "20f47632-97b1-4e79-b1f7-14283845be6e",
   "metadata": {},
   "outputs": [],
   "source": [
    "def new_decorator(original_func):\n",
    "    def wrap_up():\n",
    "        print(\"use some code before the original function\")\n",
    "        original_func()\n",
    "        print(\"use some code after that\")\n",
    "    return wrap_up"
   ]
  },
  {
   "cell_type": "code",
   "execution_count": 124,
   "id": "aebb10e1-3620-4409-8c1b-9532c1741bfc",
   "metadata": {},
   "outputs": [],
   "source": [
    "def func_needs_decorator():\n",
    "    print(\"I need to be decorated\")"
   ]
  },
  {
   "cell_type": "code",
   "execution_count": 131,
   "id": "91132591-a307-410c-a208-42abaadfdf5d",
   "metadata": {},
   "outputs": [],
   "source": [
    "nd = new_decorator(func_needs_decorator) #this has been turned into a new function"
   ]
  },
  {
   "cell_type": "code",
   "execution_count": 132,
   "id": "4cd86670-edd5-4a34-a599-f9defa64fbfe",
   "metadata": {},
   "outputs": [
    {
     "name": "stdout",
     "output_type": "stream",
     "text": [
      "use some code before the original function\n",
      "I need to be decorated\n",
      "use some code after that\n"
     ]
    }
   ],
   "source": [
    "nd()"
   ]
  },
  {
   "cell_type": "code",
   "execution_count": 133,
   "id": "415856fd-7cc7-4f29-81bf-307cedc339d7",
   "metadata": {},
   "outputs": [],
   "source": [
    "def circle(radius):\n",
    "    pi = 3.14\n",
    "    return pi*(radius)**2"
   ]
  },
  {
   "cell_type": "code",
   "execution_count": 135,
   "id": "fcae8e49-aab3-494e-a80e-a15c2725d50e",
   "metadata": {},
   "outputs": [],
   "source": [
    "c = circle(3)"
   ]
  },
  {
   "cell_type": "code",
   "execution_count": 138,
   "id": "9bbe0e33-2490-418c-a882-a05a1ec382c5",
   "metadata": {},
   "outputs": [
    {
     "data": {
      "text/plain": [
       "28.26"
      ]
     },
     "execution_count": 138,
     "metadata": {},
     "output_type": "execute_result"
    }
   ],
   "source": [
    "c"
   ]
  },
  {
   "cell_type": "code",
   "execution_count": 139,
   "id": "0224a654-fcfa-4809-abb9-1feb4a0cad04",
   "metadata": {},
   "outputs": [
    {
     "data": {
      "text/plain": [
       "'/Users/tinonturjamajumder/Machine learning Specialization /Practice by ownself'"
      ]
     },
     "execution_count": 139,
     "metadata": {},
     "output_type": "execute_result"
    }
   ],
   "source": [
    "pwd"
   ]
  },
  {
   "cell_type": "code",
   "execution_count": 140,
   "id": "cb4ddc8d-ed1a-44e7-861e-c8fdb3304dc4",
   "metadata": {},
   "outputs": [],
   "source": [
    "f = open('my practice', 'w+')\n",
    "f.write('this is a text file')\n",
    "f.close()"
   ]
  },
  {
   "cell_type": "code",
   "execution_count": 141,
   "id": "aafa8f8c-205f-45e5-9d6d-8e7b0c0261a4",
   "metadata": {},
   "outputs": [],
   "source": [
    "import os"
   ]
  },
  {
   "cell_type": "code",
   "execution_count": 143,
   "id": "db9de593-1a28-496f-ae7f-e48e6e9cd0b8",
   "metadata": {},
   "outputs": [
    {
     "data": {
      "text/plain": [
       "'/Users/tinonturjamajumder/Machine learning Specialization /Practice by ownself'"
      ]
     },
     "execution_count": 143,
     "metadata": {},
     "output_type": "execute_result"
    }
   ],
   "source": [
    "os.getcwd()"
   ]
  },
  {
   "cell_type": "code",
   "execution_count": 145,
   "id": "b4f89613-e8f8-4849-9f4d-3ee456a5a278",
   "metadata": {},
   "outputs": [
    {
     "data": {
      "text/plain": [
       "['Decision Tree.ipynb',\n",
       " 'Tree Ensemble, Random Forest.ipynb',\n",
       " 'Diagnosis Bias and Variance.ipynb',\n",
       " 'Untitled.ipynb',\n",
       " 'heart.csv',\n",
       " 'Model evaluation from the scratch.ipynb',\n",
       " 'my practice',\n",
       " 'Model Evaluation and selection.ipynb',\n",
       " '.ipynb_checkpoints']"
      ]
     },
     "execution_count": 145,
     "metadata": {},
     "output_type": "execute_result"
    }
   ],
   "source": [
    "os.listdir()"
   ]
  },
  {
   "cell_type": "code",
   "execution_count": 147,
   "id": "9e3e6a5e-0e6f-49a2-842f-a4dd508812e3",
   "metadata": {},
   "outputs": [],
   "source": [
    "import shutil "
   ]
  },
  {
   "cell_type": "code",
   "execution_count": 153,
   "id": "2e79ca2f-2e38-49f9-990e-ebb84d754226",
   "metadata": {},
   "outputs": [
    {
     "data": {
      "text/plain": [
       "'/Users/tinonturjamajumder/Desktop/my practice'"
      ]
     },
     "execution_count": 153,
     "metadata": {},
     "output_type": "execute_result"
    }
   ],
   "source": [
    "shutil.move('my practice','/Users/tinonturjamajumder/Desktop')"
   ]
  },
  {
   "cell_type": "code",
   "execution_count": 148,
   "id": "d593c4dd-92cb-4f3c-8ad3-30f18c3de5b0",
   "metadata": {},
   "outputs": [
    {
     "data": {
      "text/plain": [
       "['Decision Tree.ipynb',\n",
       " 'Tree Ensemble, Random Forest.ipynb',\n",
       " 'Diagnosis Bias and Variance.ipynb',\n",
       " 'Untitled.ipynb',\n",
       " 'heart.csv',\n",
       " 'Model evaluation from the scratch.ipynb',\n",
       " 'my practice',\n",
       " 'Model Evaluation and selection.ipynb',\n",
       " '.ipynb_checkpoints']"
      ]
     },
     "execution_count": 148,
     "metadata": {},
     "output_type": "execute_result"
    }
   ],
   "source": [
    "os.listdir()"
   ]
  },
  {
   "cell_type": "code",
   "execution_count": 149,
   "id": "8bf3d663-7834-4097-bc7e-5677609deee8",
   "metadata": {},
   "outputs": [
    {
     "data": {
      "text/plain": [
       "'/Users/tinonturjamajumder/Machine learning Specialization /Practice by ownself'"
      ]
     },
     "execution_count": 149,
     "metadata": {},
     "output_type": "execute_result"
    }
   ],
   "source": [
    "pwd"
   ]
  },
  {
   "cell_type": "code",
   "execution_count": 150,
   "id": "e10fd4df-6ef8-4cae-af50-d9573385ca1c",
   "metadata": {},
   "outputs": [
    {
     "data": {
      "text/plain": [
       "['ruff for assignment.ipynb',\n",
       " 'student ct-1 marks.xlsx',\n",
       " '.eclipse',\n",
       " '.config',\n",
       " 'Music',\n",
       " 'awdrita',\n",
       " 'Faltu',\n",
       " '.condarc',\n",
       " 'AI PYTHON NOTEBOOK',\n",
       " 'py',\n",
       " 'Untitled1.ipynb',\n",
       " '~$iting task 1.docx',\n",
       " '.DS_Store',\n",
       " 'UIU-Color Image Processing_ID.ipynb',\n",
       " 'daily practice(9th june).ipynb',\n",
       " '.CFUserTextEncoding',\n",
       " '.xonshrc',\n",
       " 'Python, Numpy and vectorization.ipynb',\n",
       " 'UIU SEMESTER',\n",
       " 'Untitled3.ipynb',\n",
       " 'Untitled.ipynb',\n",
       " '.zshrc',\n",
       " 'sorting process.ipynb',\n",
       " 'dataset',\n",
       " 'Untitled4.ipynb',\n",
       " '.local',\n",
       " 'PYTHON PROJECTS',\n",
       " 'matplotlib.ipynb',\n",
       " 'Books For Data Science',\n",
       " 'Pictures',\n",
       " '.zprofile',\n",
       " 'DSA',\n",
       " 'fourplots.png',\n",
       " 'python project 2',\n",
       " '.zsh_history',\n",
       " 'Untitled2.ipynb',\n",
       " '.p2',\n",
       " '.ipython',\n",
       " 'Desktop',\n",
       " 'Library',\n",
       " 'model training basics 1.ipynb',\n",
       " '.matplotlib',\n",
       " '.lesshst',\n",
       " 'GRE ',\n",
       " 'ruff.ipynb',\n",
       " 'IMAGE',\n",
       " 'project',\n",
       " 'Screenshot 2024-11-20 at 5.17.20\\u202fPM.png',\n",
       " 'PycharmProjects',\n",
       " 'Public',\n",
       " 'Multiple variable linear regression.ipynb',\n",
       " 'Programming Exercise 1 - Linear Regression.ipynb',\n",
       " '.tcshrc',\n",
       " 'student ct-1 marks.csv',\n",
       " '.anaconda',\n",
       " 'student-s-dropout-prediction-final-project.ipynb',\n",
       " 'mine',\n",
       " 'Movies',\n",
       " 'Applications',\n",
       " 'data-analyst-roadmap-2024',\n",
       " '.Trash',\n",
       " 'Speaking part 1.docx',\n",
       " 'player input of tictactoe.ipynb',\n",
       " '.ipynb_checkpoints',\n",
       " 'All about images',\n",
       " '.jupyter',\n",
       " 'gittwo',\n",
       " '.keras',\n",
       " '~$ne graph.docx',\n",
       " 'Documents',\n",
       " 'Student Performance Prediction',\n",
       " 'venv',\n",
       " 'Review and practices upto project.ipynb',\n",
       " '.git',\n",
       " 'USA UNI AND APPLY',\n",
       " '.vscode',\n",
       " 'real problem to predict price of house.ipynb',\n",
       " 'main.py',\n",
       " 'simple.py',\n",
       " '.bash_profile',\n",
       " 'anaconda3',\n",
       " 'Downloads',\n",
       " '.python_history',\n",
       " '.continuum',\n",
       " '.cache',\n",
       " 'coding_practices ',\n",
       " 'Back Propagation.ipynb',\n",
       " 'My Pandas',\n",
       " 'Embedded LLM.docx',\n",
       " '.viminfo',\n",
       " 'Machine learning Specialization ',\n",
       " '.zsh_sessions',\n",
       " '.astropy',\n",
       " '.conda',\n",
       " 'Gradient Descent.ipynb']"
      ]
     },
     "execution_count": 150,
     "metadata": {},
     "output_type": "execute_result"
    }
   ],
   "source": [
    "os.listdir('/Users/tinonturjamajumder')"
   ]
  },
  {
   "cell_type": "code",
   "execution_count": 154,
   "id": "6d792331-d6fb-4fbe-b2ff-5d15f335bab5",
   "metadata": {},
   "outputs": [],
   "source": [
    "import datetime"
   ]
  },
  {
   "cell_type": "code",
   "execution_count": 156,
   "id": "b4a8976c-ce57-4821-843d-ceda73f54dbc",
   "metadata": {},
   "outputs": [],
   "source": [
    "mytime = datetime.time(2,20)"
   ]
  },
  {
   "cell_type": "code",
   "execution_count": 157,
   "id": "65fa7e56-d11e-4e3b-9178-2bba1d8a27c5",
   "metadata": {},
   "outputs": [
    {
     "data": {
      "text/plain": [
       "2"
      ]
     },
     "execution_count": 157,
     "metadata": {},
     "output_type": "execute_result"
    }
   ],
   "source": [
    "mytime.hour"
   ]
  },
  {
   "cell_type": "code",
   "execution_count": 158,
   "id": "19a25f60-c262-410c-a2ad-a0f1431d4ad5",
   "metadata": {},
   "outputs": [
    {
     "data": {
      "text/plain": [
       "20"
      ]
     },
     "execution_count": 158,
     "metadata": {},
     "output_type": "execute_result"
    }
   ],
   "source": [
    "mytime.minute"
   ]
  },
  {
   "cell_type": "code",
   "execution_count": 159,
   "id": "94d21f24-023d-4d3b-a4fb-2e8cf10c0226",
   "metadata": {},
   "outputs": [
    {
     "data": {
      "text/plain": [
       "datetime.time(0, 0)"
      ]
     },
     "execution_count": 159,
     "metadata": {},
     "output_type": "execute_result"
    }
   ],
   "source": [
    "datetime.time()"
   ]
  },
  {
   "cell_type": "code",
   "execution_count": 169,
   "id": "bd67b5f8-0e8d-485f-ad6f-df1e11319cd4",
   "metadata": {},
   "outputs": [],
   "source": [
    "today = datetime.date.today()"
   ]
  },
  {
   "cell_type": "code",
   "execution_count": 170,
   "id": "a56c07bc-3b46-4884-9001-c9478a69811f",
   "metadata": {},
   "outputs": [
    {
     "data": {
      "text/plain": [
       "datetime.date(2025, 1, 7)"
      ]
     },
     "execution_count": 170,
     "metadata": {},
     "output_type": "execute_result"
    }
   ],
   "source": [
    "today"
   ]
  },
  {
   "cell_type": "code",
   "execution_count": 171,
   "id": "91a94b2f-c5eb-4bb1-9eec-65acb928e28b",
   "metadata": {},
   "outputs": [],
   "source": [
    "from datetime import datetime"
   ]
  },
  {
   "cell_type": "code",
   "execution_count": 176,
   "id": "2f55aa93-26de-4a88-ad24-9b9fd2ffe50f",
   "metadata": {},
   "outputs": [],
   "source": [
    "this_month = datetime.month"
   ]
  },
  {
   "cell_type": "code",
   "execution_count": 177,
   "id": "3709ee9d-28e9-4cd8-b7e0-720287f6096c",
   "metadata": {},
   "outputs": [
    {
     "data": {
      "text/plain": [
       "<attribute 'month' of 'datetime.date' objects>"
      ]
     },
     "execution_count": 177,
     "metadata": {},
     "output_type": "execute_result"
    }
   ],
   "source": [
    "this_month"
   ]
  },
  {
   "cell_type": "code",
   "execution_count": 185,
   "id": "65b88f4b-642c-4501-be79-d5f240755379",
   "metadata": {},
   "outputs": [
    {
     "data": {
      "text/plain": [
       "'/Users/tinonturjamajumder/Machine learning Specialization /Practice by ownself'"
      ]
     },
     "execution_count": 185,
     "metadata": {},
     "output_type": "execute_result"
    }
   ],
   "source": [
    "os.getcwd()"
   ]
  },
  {
   "cell_type": "code",
   "execution_count": 182,
   "id": "20349e71-e7cd-4e9b-b3e4-581fd36a3cb2",
   "metadata": {},
   "outputs": [],
   "source": [
    "import zipfile"
   ]
  },
  {
   "cell_type": "code",
   "execution_count": 187,
   "id": "c0f0407a-ab42-46f2-a68a-ed4f6efcb8f9",
   "metadata": {},
   "outputs": [],
   "source": [
    "shutil.unpack_archive('/Users/tinonturjamajumder/Complete-Python-3-Bootcamp-master/12-Advanced Python Modules/08-Advanced-Python-Module-Exercise/unzip_me_for_instructions.zip',os.getcwd(),'zip')"
   ]
  },
  {
   "cell_type": "code",
   "execution_count": null,
   "id": "6a23773d-12e7-4a3c-b4db-985b1d11b632",
   "metadata": {},
   "outputs": [],
   "source": []
  }
 ],
 "metadata": {
  "kernelspec": {
   "display_name": "Python 3 (ipykernel)",
   "language": "python",
   "name": "python3"
  },
  "language_info": {
   "codemirror_mode": {
    "name": "ipython",
    "version": 3
   },
   "file_extension": ".py",
   "mimetype": "text/x-python",
   "name": "python",
   "nbconvert_exporter": "python",
   "pygments_lexer": "ipython3",
   "version": "3.11.5"
  }
 },
 "nbformat": 4,
 "nbformat_minor": 5
}
