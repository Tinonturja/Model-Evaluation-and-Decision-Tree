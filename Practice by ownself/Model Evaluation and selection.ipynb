{
 "cells": [
  {
   "cell_type": "markdown",
   "id": "759827b7-cff3-40ce-92be-e5f47e1ad5a4",
   "metadata": {},
   "source": [
    "### Imports Library"
   ]
  },
  {
   "cell_type": "code",
   "execution_count": 4,
   "id": "9706df24-96a8-4578-8728-09db91391df1",
   "metadata": {},
   "outputs": [],
   "source": [
    "import numpy as np\n",
    "import pandas as pd\n",
    "\n",
    "\n",
    "\n",
    "#for building linear regression problem\n",
    "from sklearn.linear_model import LinearRegression\n",
    "from sklearn.preprocessing import StandardScaler, PolynomialFeatures\n",
    "from sklearn.model_selection import train_test_split\n",
    "from sklearn.metrics import mean_squared_error\n",
    "\n",
    "\n",
    "#for visualization\n",
    "import matplotlib.pyplot as plt\n",
    "%matplotlib inline\n",
    "#for building and training \n",
    "import tensorflow as tf\n",
    "\n",
    "#suppress warning\n",
    "tf.get_logger().setLevel('ERROR')\n",
    "tf.autograph.set_verbosity(0)"
   ]
  },
  {
   "cell_type": "code",
   "execution_count": 26,
   "id": "5f52790e-582f-4ddc-8bcc-cc75d428e7cc",
   "metadata": {},
   "outputs": [],
   "source": [
    "df = pd.read_csv('/Users/tinonturjamajumder/Downloads/laptop_price - dataset.csv' , encoding = 'latin-1')"
   ]
  },
  {
   "cell_type": "code",
   "execution_count": 27,
   "id": "8bd70496-9cf1-47fd-827c-e2d90ab37d28",
   "metadata": {},
   "outputs": [
    {
     "data": {
      "text/html": [
       "<div>\n",
       "<style scoped>\n",
       "    .dataframe tbody tr th:only-of-type {\n",
       "        vertical-align: middle;\n",
       "    }\n",
       "\n",
       "    .dataframe tbody tr th {\n",
       "        vertical-align: top;\n",
       "    }\n",
       "\n",
       "    .dataframe thead th {\n",
       "        text-align: right;\n",
       "    }\n",
       "</style>\n",
       "<table border=\"1\" class=\"dataframe\">\n",
       "  <thead>\n",
       "    <tr style=\"text-align: right;\">\n",
       "      <th></th>\n",
       "      <th>Company</th>\n",
       "      <th>Product</th>\n",
       "      <th>TypeName</th>\n",
       "      <th>Inches</th>\n",
       "      <th>ScreenResolution</th>\n",
       "      <th>CPU_Company</th>\n",
       "      <th>CPU_Type</th>\n",
       "      <th>CPU_Frequency (GHz)</th>\n",
       "      <th>RAM (GB)</th>\n",
       "      <th>Memory</th>\n",
       "      <th>GPU_Company</th>\n",
       "      <th>GPU_Type</th>\n",
       "      <th>OpSys</th>\n",
       "      <th>Weight (kg)</th>\n",
       "      <th>Price (Euro)</th>\n",
       "    </tr>\n",
       "  </thead>\n",
       "  <tbody>\n",
       "    <tr>\n",
       "      <th>0</th>\n",
       "      <td>Apple</td>\n",
       "      <td>MacBook Pro</td>\n",
       "      <td>Ultrabook</td>\n",
       "      <td>13.3</td>\n",
       "      <td>IPS Panel Retina Display 2560x1600</td>\n",
       "      <td>Intel</td>\n",
       "      <td>Core i5</td>\n",
       "      <td>2.3</td>\n",
       "      <td>8</td>\n",
       "      <td>128GB SSD</td>\n",
       "      <td>Intel</td>\n",
       "      <td>Iris Plus Graphics 640</td>\n",
       "      <td>macOS</td>\n",
       "      <td>1.37</td>\n",
       "      <td>1339.69</td>\n",
       "    </tr>\n",
       "    <tr>\n",
       "      <th>1</th>\n",
       "      <td>Apple</td>\n",
       "      <td>Macbook Air</td>\n",
       "      <td>Ultrabook</td>\n",
       "      <td>13.3</td>\n",
       "      <td>1440x900</td>\n",
       "      <td>Intel</td>\n",
       "      <td>Core i5</td>\n",
       "      <td>1.8</td>\n",
       "      <td>8</td>\n",
       "      <td>128GB Flash Storage</td>\n",
       "      <td>Intel</td>\n",
       "      <td>HD Graphics 6000</td>\n",
       "      <td>macOS</td>\n",
       "      <td>1.34</td>\n",
       "      <td>898.94</td>\n",
       "    </tr>\n",
       "    <tr>\n",
       "      <th>2</th>\n",
       "      <td>HP</td>\n",
       "      <td>250 G6</td>\n",
       "      <td>Notebook</td>\n",
       "      <td>15.6</td>\n",
       "      <td>Full HD 1920x1080</td>\n",
       "      <td>Intel</td>\n",
       "      <td>Core i5 7200U</td>\n",
       "      <td>2.5</td>\n",
       "      <td>8</td>\n",
       "      <td>256GB SSD</td>\n",
       "      <td>Intel</td>\n",
       "      <td>HD Graphics 620</td>\n",
       "      <td>No OS</td>\n",
       "      <td>1.86</td>\n",
       "      <td>575.00</td>\n",
       "    </tr>\n",
       "    <tr>\n",
       "      <th>3</th>\n",
       "      <td>Apple</td>\n",
       "      <td>MacBook Pro</td>\n",
       "      <td>Ultrabook</td>\n",
       "      <td>15.4</td>\n",
       "      <td>IPS Panel Retina Display 2880x1800</td>\n",
       "      <td>Intel</td>\n",
       "      <td>Core i7</td>\n",
       "      <td>2.7</td>\n",
       "      <td>16</td>\n",
       "      <td>512GB SSD</td>\n",
       "      <td>AMD</td>\n",
       "      <td>Radeon Pro 455</td>\n",
       "      <td>macOS</td>\n",
       "      <td>1.83</td>\n",
       "      <td>2537.45</td>\n",
       "    </tr>\n",
       "    <tr>\n",
       "      <th>4</th>\n",
       "      <td>Apple</td>\n",
       "      <td>MacBook Pro</td>\n",
       "      <td>Ultrabook</td>\n",
       "      <td>13.3</td>\n",
       "      <td>IPS Panel Retina Display 2560x1600</td>\n",
       "      <td>Intel</td>\n",
       "      <td>Core i5</td>\n",
       "      <td>3.1</td>\n",
       "      <td>8</td>\n",
       "      <td>256GB SSD</td>\n",
       "      <td>Intel</td>\n",
       "      <td>Iris Plus Graphics 650</td>\n",
       "      <td>macOS</td>\n",
       "      <td>1.37</td>\n",
       "      <td>1803.60</td>\n",
       "    </tr>\n",
       "  </tbody>\n",
       "</table>\n",
       "</div>"
      ],
      "text/plain": [
       "  Company      Product   TypeName  Inches                    ScreenResolution  \\\n",
       "0   Apple  MacBook Pro  Ultrabook    13.3  IPS Panel Retina Display 2560x1600   \n",
       "1   Apple  Macbook Air  Ultrabook    13.3                            1440x900   \n",
       "2      HP       250 G6   Notebook    15.6                   Full HD 1920x1080   \n",
       "3   Apple  MacBook Pro  Ultrabook    15.4  IPS Panel Retina Display 2880x1800   \n",
       "4   Apple  MacBook Pro  Ultrabook    13.3  IPS Panel Retina Display 2560x1600   \n",
       "\n",
       "  CPU_Company       CPU_Type  CPU_Frequency (GHz)  RAM (GB)  \\\n",
       "0       Intel        Core i5                  2.3         8   \n",
       "1       Intel        Core i5                  1.8         8   \n",
       "2       Intel  Core i5 7200U                  2.5         8   \n",
       "3       Intel        Core i7                  2.7        16   \n",
       "4       Intel        Core i5                  3.1         8   \n",
       "\n",
       "                Memory GPU_Company                GPU_Type  OpSys  \\\n",
       "0            128GB SSD       Intel  Iris Plus Graphics 640  macOS   \n",
       "1  128GB Flash Storage       Intel        HD Graphics 6000  macOS   \n",
       "2            256GB SSD       Intel         HD Graphics 620  No OS   \n",
       "3            512GB SSD         AMD          Radeon Pro 455  macOS   \n",
       "4            256GB SSD       Intel  Iris Plus Graphics 650  macOS   \n",
       "\n",
       "   Weight (kg)  Price (Euro)  \n",
       "0         1.37       1339.69  \n",
       "1         1.34        898.94  \n",
       "2         1.86        575.00  \n",
       "3         1.83       2537.45  \n",
       "4         1.37       1803.60  "
      ]
     },
     "execution_count": 27,
     "metadata": {},
     "output_type": "execute_result"
    }
   ],
   "source": [
    "df.head()"
   ]
  },
  {
   "cell_type": "code",
   "execution_count": 48,
   "id": "06981701-c837-4a27-850d-1d89838ae653",
   "metadata": {},
   "outputs": [
    {
     "name": "stdout",
     "output_type": "stream",
     "text": [
      "<class 'pandas.core.frame.DataFrame'>\n",
      "Index: 765 entries, 57 to 681\n",
      "Data columns (total 14 columns):\n",
      " #   Column               Non-Null Count  Dtype  \n",
      "---  ------               --------------  -----  \n",
      " 0   Company              765 non-null    object \n",
      " 1   Product              765 non-null    object \n",
      " 2   TypeName             765 non-null    object \n",
      " 3   Inches               765 non-null    float64\n",
      " 4   ScreenResolution     765 non-null    object \n",
      " 5   CPU_Company          765 non-null    object \n",
      " 6   CPU_Type             765 non-null    object \n",
      " 7   CPU_Frequency (GHz)  765 non-null    float64\n",
      " 8   RAM (GB)             765 non-null    int64  \n",
      " 9   Memory               765 non-null    object \n",
      " 10  GPU_Company          765 non-null    object \n",
      " 11  GPU_Type             765 non-null    object \n",
      " 12  OpSys                765 non-null    object \n",
      " 13  Weight (kg)          765 non-null    float64\n",
      "dtypes: float64(3), int64(1), object(10)\n",
      "memory usage: 89.6+ KB\n"
     ]
    }
   ],
   "source": [
    "X_train.info()"
   ]
  },
  {
   "cell_type": "code",
   "execution_count": 28,
   "id": "7d992c38-ae58-4dfe-b53c-d1c5ffe84b9d",
   "metadata": {},
   "outputs": [
    {
     "data": {
      "text/plain": [
       "Company                                             Apple\n",
       "Product                                       MacBook Pro\n",
       "TypeName                                        Ultrabook\n",
       "Inches                                               15.4\n",
       "ScreenResolution       IPS Panel Retina Display 2880x1800\n",
       "CPU_Company                                         Intel\n",
       "CPU_Type                                          Core i7\n",
       "CPU_Frequency (GHz)                                   2.7\n",
       "RAM (GB)                                               16\n",
       "Memory                                          512GB SSD\n",
       "GPU_Company                                           AMD\n",
       "GPU_Type                                   Radeon Pro 455\n",
       "OpSys                                               macOS\n",
       "Weight (kg)                                          1.83\n",
       "Price (Euro)                                      2537.45\n",
       "Name: 3, dtype: object"
      ]
     },
     "execution_count": 28,
     "metadata": {},
     "output_type": "execute_result"
    }
   ],
   "source": [
    "df.iloc[3]"
   ]
  },
  {
   "cell_type": "code",
   "execution_count": 49,
   "id": "7a73873a-a5c6-4ac9-b02d-610d58deb026",
   "metadata": {},
   "outputs": [
    {
     "data": {
      "text/plain": [
       "(1275, 15)"
      ]
     },
     "execution_count": 49,
     "metadata": {},
     "output_type": "execute_result"
    }
   ],
   "source": [
    "df.shape"
   ]
  },
  {
   "cell_type": "code",
   "execution_count": 50,
   "id": "5dec07e6-c005-442e-83e1-d2a764b3e33b",
   "metadata": {},
   "outputs": [
    {
     "data": {
      "text/plain": [
       "Index(['Company', 'Product', 'TypeName', 'Inches', 'ScreenResolution',\n",
       "       'CPU_Company', 'CPU_Type', 'CPU_Frequency (GHz)', 'RAM (GB)', 'Memory',\n",
       "       'GPU_Company', 'GPU_Type', 'OpSys', 'Weight (kg)', 'Price (Euro)'],\n",
       "      dtype='object')"
      ]
     },
     "execution_count": 50,
     "metadata": {},
     "output_type": "execute_result"
    }
   ],
   "source": [
    "df.columns"
   ]
  },
  {
   "cell_type": "code",
   "execution_count": 51,
   "id": "e7a1aba7-2a24-48ad-bd92-2aeca47b2d72",
   "metadata": {},
   "outputs": [],
   "source": [
    "X=df.drop(columns=['Price (Euro)'])"
   ]
  },
  {
   "cell_type": "code",
   "execution_count": 52,
   "id": "8fe00cc9-46bd-4e0d-b2f6-5997c89a172a",
   "metadata": {},
   "outputs": [
    {
     "data": {
      "text/plain": [
       "(1275, 14)"
      ]
     },
     "execution_count": 52,
     "metadata": {},
     "output_type": "execute_result"
    }
   ],
   "source": [
    "X.shape"
   ]
  },
  {
   "cell_type": "code",
   "execution_count": 53,
   "id": "20f84f0f-fb6f-427f-9efc-0aabac2519ab",
   "metadata": {},
   "outputs": [],
   "source": [
    "y=df['Price (Euro)']"
   ]
  },
  {
   "cell_type": "code",
   "execution_count": 54,
   "id": "e64a8c56-2ede-4c45-b289-5ccfd7cbeb7c",
   "metadata": {},
   "outputs": [
    {
     "data": {
      "text/plain": [
       "(1275,)"
      ]
     },
     "execution_count": 54,
     "metadata": {},
     "output_type": "execute_result"
    }
   ],
   "source": [
    "y.shape"
   ]
  },
  {
   "cell_type": "code",
   "execution_count": 55,
   "id": "b9bf2451-5cb5-4fef-a4b3-f82e79ecd112",
   "metadata": {},
   "outputs": [
    {
     "data": {
      "text/plain": [
       "0    1339.69\n",
       "1     898.94\n",
       "2     575.00\n",
       "3    2537.45\n",
       "4    1803.60\n",
       "Name: Price (Euro), dtype: float64"
      ]
     },
     "execution_count": 55,
     "metadata": {},
     "output_type": "execute_result"
    }
   ],
   "source": [
    "y.head()"
   ]
  },
  {
   "cell_type": "code",
   "execution_count": 56,
   "id": "e65efac9-d6be-4591-9672-e332e874b121",
   "metadata": {},
   "outputs": [
    {
     "data": {
      "text/plain": [
       "1"
      ]
     },
     "execution_count": 56,
     "metadata": {},
     "output_type": "execute_result"
    }
   ],
   "source": [
    "y.ndim"
   ]
  },
  {
   "cell_type": "code",
   "execution_count": 21,
   "id": "63cb49f0-16d8-4e73-87e1-84e85d44dd0b",
   "metadata": {},
   "outputs": [],
   "source": [
    "X_train, X_test, y_train, y_test = train_test_split(X,y, random_state=10 , test_size=0.2)"
   ]
  },
  {
   "cell_type": "code",
   "execution_count": 22,
   "id": "6fda199e-98e2-4ad3-a86c-fd499e8ed5b7",
   "metadata": {},
   "outputs": [
    {
     "data": {
      "text/plain": [
       "(604, 17)"
      ]
     },
     "execution_count": 22,
     "metadata": {},
     "output_type": "execute_result"
    }
   ],
   "source": [
    "X_train.shape"
   ]
  },
  {
   "cell_type": "code",
   "execution_count": 57,
   "id": "e43e2f32-74ae-44eb-810c-7b6fb5f5b4ae",
   "metadata": {},
   "outputs": [
    {
     "data": {
      "text/html": [
       "<div>\n",
       "<style scoped>\n",
       "    .dataframe tbody tr th:only-of-type {\n",
       "        vertical-align: middle;\n",
       "    }\n",
       "\n",
       "    .dataframe tbody tr th {\n",
       "        vertical-align: top;\n",
       "    }\n",
       "\n",
       "    .dataframe thead th {\n",
       "        text-align: right;\n",
       "    }\n",
       "</style>\n",
       "<table border=\"1\" class=\"dataframe\">\n",
       "  <thead>\n",
       "    <tr style=\"text-align: right;\">\n",
       "      <th></th>\n",
       "      <th>Inches</th>\n",
       "      <th>CPU_Frequency (GHz)</th>\n",
       "      <th>RAM (GB)</th>\n",
       "      <th>Weight (kg)</th>\n",
       "    </tr>\n",
       "  </thead>\n",
       "  <tbody>\n",
       "    <tr>\n",
       "      <th>count</th>\n",
       "      <td>765.000000</td>\n",
       "      <td>765.000000</td>\n",
       "      <td>765.000000</td>\n",
       "      <td>765.000000</td>\n",
       "    </tr>\n",
       "    <tr>\n",
       "      <th>mean</th>\n",
       "      <td>15.100523</td>\n",
       "      <td>2.319712</td>\n",
       "      <td>8.630065</td>\n",
       "      <td>2.076233</td>\n",
       "    </tr>\n",
       "    <tr>\n",
       "      <th>std</th>\n",
       "      <td>1.398700</td>\n",
       "      <td>0.490506</td>\n",
       "      <td>5.500632</td>\n",
       "      <td>0.687867</td>\n",
       "    </tr>\n",
       "    <tr>\n",
       "      <th>min</th>\n",
       "      <td>10.100000</td>\n",
       "      <td>0.900000</td>\n",
       "      <td>2.000000</td>\n",
       "      <td>0.690000</td>\n",
       "    </tr>\n",
       "    <tr>\n",
       "      <th>25%</th>\n",
       "      <td>14.000000</td>\n",
       "      <td>2.000000</td>\n",
       "      <td>4.000000</td>\n",
       "      <td>1.580000</td>\n",
       "    </tr>\n",
       "    <tr>\n",
       "      <th>50%</th>\n",
       "      <td>15.600000</td>\n",
       "      <td>2.500000</td>\n",
       "      <td>8.000000</td>\n",
       "      <td>2.090000</td>\n",
       "    </tr>\n",
       "    <tr>\n",
       "      <th>75%</th>\n",
       "      <td>15.600000</td>\n",
       "      <td>2.700000</td>\n",
       "      <td>8.000000</td>\n",
       "      <td>2.330000</td>\n",
       "    </tr>\n",
       "    <tr>\n",
       "      <th>max</th>\n",
       "      <td>17.300000</td>\n",
       "      <td>3.600000</td>\n",
       "      <td>64.000000</td>\n",
       "      <td>4.700000</td>\n",
       "    </tr>\n",
       "  </tbody>\n",
       "</table>\n",
       "</div>"
      ],
      "text/plain": [
       "           Inches  CPU_Frequency (GHz)    RAM (GB)  Weight (kg)\n",
       "count  765.000000           765.000000  765.000000   765.000000\n",
       "mean    15.100523             2.319712    8.630065     2.076233\n",
       "std      1.398700             0.490506    5.500632     0.687867\n",
       "min     10.100000             0.900000    2.000000     0.690000\n",
       "25%     14.000000             2.000000    4.000000     1.580000\n",
       "50%     15.600000             2.500000    8.000000     2.090000\n",
       "75%     15.600000             2.700000    8.000000     2.330000\n",
       "max     17.300000             3.600000   64.000000     4.700000"
      ]
     },
     "execution_count": 57,
     "metadata": {},
     "output_type": "execute_result"
    }
   ],
   "source": [
    "X_train.describe()\n"
   ]
  },
  {
   "cell_type": "code",
   "execution_count": 24,
   "id": "838afa86-e1c7-4a70-98d6-a4928bd19d09",
   "metadata": {},
   "outputs": [
    {
     "data": {
      "text/html": [
       "<div>\n",
       "<style scoped>\n",
       "    .dataframe tbody tr th:only-of-type {\n",
       "        vertical-align: middle;\n",
       "    }\n",
       "\n",
       "    .dataframe tbody tr th {\n",
       "        vertical-align: top;\n",
       "    }\n",
       "\n",
       "    .dataframe thead th {\n",
       "        text-align: right;\n",
       "    }\n",
       "</style>\n",
       "<table border=\"1\" class=\"dataframe\">\n",
       "  <thead>\n",
       "    <tr style=\"text-align: right;\">\n",
       "      <th></th>\n",
       "      <th>id</th>\n",
       "      <th>season</th>\n",
       "      <th>dl_applied</th>\n",
       "      <th>win_by_runs</th>\n",
       "      <th>win_by_wickets</th>\n",
       "    </tr>\n",
       "  </thead>\n",
       "  <tbody>\n",
       "    <tr>\n",
       "      <th>count</th>\n",
       "      <td>604.000</td>\n",
       "      <td>604.000</td>\n",
       "      <td>604.000</td>\n",
       "      <td>604.000</td>\n",
       "      <td>604.000</td>\n",
       "    </tr>\n",
       "    <tr>\n",
       "      <th>mean</th>\n",
       "      <td>1935.929</td>\n",
       "      <td>2013.558</td>\n",
       "      <td>0.028</td>\n",
       "      <td>12.629</td>\n",
       "      <td>3.439</td>\n",
       "    </tr>\n",
       "    <tr>\n",
       "      <th>std</th>\n",
       "      <td>3584.117</td>\n",
       "      <td>3.418</td>\n",
       "      <td>0.166</td>\n",
       "      <td>22.146</td>\n",
       "      <td>3.397</td>\n",
       "    </tr>\n",
       "    <tr>\n",
       "      <th>min</th>\n",
       "      <td>1.000</td>\n",
       "      <td>2008.000</td>\n",
       "      <td>0.000</td>\n",
       "      <td>0.000</td>\n",
       "      <td>0.000</td>\n",
       "    </tr>\n",
       "    <tr>\n",
       "      <th>25%</th>\n",
       "      <td>186.750</td>\n",
       "      <td>2011.000</td>\n",
       "      <td>0.000</td>\n",
       "      <td>0.000</td>\n",
       "      <td>0.000</td>\n",
       "    </tr>\n",
       "    <tr>\n",
       "      <th>50%</th>\n",
       "      <td>388.000</td>\n",
       "      <td>2013.000</td>\n",
       "      <td>0.000</td>\n",
       "      <td>0.000</td>\n",
       "      <td>4.000</td>\n",
       "    </tr>\n",
       "    <tr>\n",
       "      <th>75%</th>\n",
       "      <td>577.250</td>\n",
       "      <td>2017.000</td>\n",
       "      <td>0.000</td>\n",
       "      <td>18.000</td>\n",
       "      <td>6.000</td>\n",
       "    </tr>\n",
       "    <tr>\n",
       "      <th>max</th>\n",
       "      <td>11415.000</td>\n",
       "      <td>2019.000</td>\n",
       "      <td>1.000</td>\n",
       "      <td>140.000</td>\n",
       "      <td>10.000</td>\n",
       "    </tr>\n",
       "  </tbody>\n",
       "</table>\n",
       "</div>"
      ],
      "text/plain": [
       "              id    season  dl_applied  win_by_runs  win_by_wickets\n",
       "count    604.000   604.000     604.000      604.000         604.000\n",
       "mean    1935.929  2013.558       0.028       12.629           3.439\n",
       "std     3584.117     3.418       0.166       22.146           3.397\n",
       "min        1.000  2008.000       0.000        0.000           0.000\n",
       "25%      186.750  2011.000       0.000        0.000           0.000\n",
       "50%      388.000  2013.000       0.000        0.000           4.000\n",
       "75%      577.250  2017.000       0.000       18.000           6.000\n",
       "max    11415.000  2019.000       1.000      140.000          10.000"
      ]
     },
     "execution_count": 24,
     "metadata": {},
     "output_type": "execute_result"
    }
   ],
   "source": [
    "X_train.describe().round(3)"
   ]
  },
  {
   "cell_type": "code",
   "execution_count": 38,
   "id": "e2d049ae-1bb8-4110-94f5-d8a2a1cae1af",
   "metadata": {},
   "outputs": [
    {
     "name": "stdout",
     "output_type": "stream",
     "text": [
      "the shape of the training set (input) is: (765, 14)\n",
      "the shape of the training set (target) is: (765,)\n",
      "\n",
      "the shape of the cross validation set (input) is: (255, 14)\n",
      "the shape of the cross validation set (target) is: (255,)\n",
      "\n",
      "the shape of the test set (input) is: (255, 14)\n",
      "the shape of the test set (target) is: (255,)\n"
     ]
    }
   ],
   "source": [
    "#divide into train, validation and test dataset\n",
    "#first divide into train and other sector\n",
    "X_train, x_, y_train , y_ = train_test_split(X, y, random_state=16, test_size=0.4)\n",
    "\n",
    "#split the remaining 40 percent into validation and test file\n",
    "\n",
    "x_cv, x_test, y_cv , y_test = train_test_split(x_, y_, test_size=0.50, random_state=16)\n",
    "\n",
    "#delete temporary variables\n",
    "\n",
    "del x_, y_\n",
    "\n",
    "print(f\"the shape of the training set (input) is: {X_train.shape}\")\n",
    "print(f\"the shape of the training set (target) is: {y_train.shape}\\n\")\n",
    "print(f\"the shape of the cross validation set (input) is: {x_cv.shape}\")\n",
    "print(f\"the shape of the cross validation set (target) is: {y_cv.shape}\\n\")\n",
    "print(f\"the shape of the test set (input) is: {x_test.shape}\")\n",
    "print(f\"the shape of the test set (target) is: {y_test.shape}\")\n"
   ]
  },
  {
   "cell_type": "code",
   "execution_count": 17,
   "id": "fbe30430-ff51-433c-af6a-49b9c5f1b298",
   "metadata": {},
   "outputs": [],
   "source": [
    "y_train=np.expand_dims(y_train, axis=1)\n",
    "y_cv=np.expand_dims(y_cv, axis=1)\n",
    "y_test=np.expand_dims(y_test, axis=1)"
   ]
  },
  {
   "cell_type": "code",
   "execution_count": 58,
   "id": "4c520a3f-ea50-488c-b679-ffd4414e002d",
   "metadata": {},
   "outputs": [
    {
     "data": {
      "text/plain": [
       "(255,)"
      ]
     },
     "execution_count": 58,
     "metadata": {},
     "output_type": "execute_result"
    }
   ],
   "source": [
    "y_cv.shape\n",
    "y_test.shape"
   ]
  },
  {
   "cell_type": "code",
   "execution_count": 59,
   "id": "03b3db76-09b9-41dc-b490-209c94d90b55",
   "metadata": {},
   "outputs": [
    {
     "data": {
      "text/plain": [
       "<bound method NDFrame.head of 57       586.19\n",
       "831     2099.00\n",
       "419     1215.38\n",
       "312     2099.00\n",
       "679     1299.00\n",
       "         ...   \n",
       "635      906.62\n",
       "581     1008.52\n",
       "121     2241.50\n",
       "1262     459.00\n",
       "681      419.00\n",
       "Name: Price (Euro), Length: 765, dtype: float64>"
      ]
     },
     "execution_count": 59,
     "metadata": {},
     "output_type": "execute_result"
    }
   ],
   "source": [
    "y_train.head"
   ]
  },
  {
   "cell_type": "markdown",
   "id": "bd37f633-1da7-4b9e-9cca-abba6c4f17dd",
   "metadata": {},
   "source": [
    "#### Feature Scaling"
   ]
  },
  {
   "cell_type": "markdown",
   "id": "3460686d-5953-4990-8f1e-71d08213a2f0",
   "metadata": {},
   "source": [
    "It's a good idea to perform feature scaling to help your model to converge faster. this is especially true if your input features have widely different range of values."
   ]
  },
  {
   "cell_type": "code",
   "execution_count": 60,
   "id": "9afcc7bf-fa48-4b35-9666-1c8dbd88eef9",
   "metadata": {},
   "outputs": [
    {
     "data": {
      "text/html": [
       "<div>\n",
       "<style scoped>\n",
       "    .dataframe tbody tr th:only-of-type {\n",
       "        vertical-align: middle;\n",
       "    }\n",
       "\n",
       "    .dataframe tbody tr th {\n",
       "        vertical-align: top;\n",
       "    }\n",
       "\n",
       "    .dataframe thead th {\n",
       "        text-align: right;\n",
       "    }\n",
       "</style>\n",
       "<table border=\"1\" class=\"dataframe\">\n",
       "  <thead>\n",
       "    <tr style=\"text-align: right;\">\n",
       "      <th></th>\n",
       "      <th>Inches</th>\n",
       "      <th>CPU_Frequency (GHz)</th>\n",
       "      <th>RAM (GB)</th>\n",
       "      <th>Weight (kg)</th>\n",
       "    </tr>\n",
       "  </thead>\n",
       "  <tbody>\n",
       "    <tr>\n",
       "      <th>count</th>\n",
       "      <td>765.000</td>\n",
       "      <td>765.000</td>\n",
       "      <td>765.000</td>\n",
       "      <td>765.000</td>\n",
       "    </tr>\n",
       "    <tr>\n",
       "      <th>mean</th>\n",
       "      <td>15.101</td>\n",
       "      <td>2.320</td>\n",
       "      <td>8.630</td>\n",
       "      <td>2.076</td>\n",
       "    </tr>\n",
       "    <tr>\n",
       "      <th>std</th>\n",
       "      <td>1.399</td>\n",
       "      <td>0.491</td>\n",
       "      <td>5.501</td>\n",
       "      <td>0.688</td>\n",
       "    </tr>\n",
       "    <tr>\n",
       "      <th>min</th>\n",
       "      <td>10.100</td>\n",
       "      <td>0.900</td>\n",
       "      <td>2.000</td>\n",
       "      <td>0.690</td>\n",
       "    </tr>\n",
       "    <tr>\n",
       "      <th>25%</th>\n",
       "      <td>14.000</td>\n",
       "      <td>2.000</td>\n",
       "      <td>4.000</td>\n",
       "      <td>1.580</td>\n",
       "    </tr>\n",
       "    <tr>\n",
       "      <th>50%</th>\n",
       "      <td>15.600</td>\n",
       "      <td>2.500</td>\n",
       "      <td>8.000</td>\n",
       "      <td>2.090</td>\n",
       "    </tr>\n",
       "    <tr>\n",
       "      <th>75%</th>\n",
       "      <td>15.600</td>\n",
       "      <td>2.700</td>\n",
       "      <td>8.000</td>\n",
       "      <td>2.330</td>\n",
       "    </tr>\n",
       "    <tr>\n",
       "      <th>max</th>\n",
       "      <td>17.300</td>\n",
       "      <td>3.600</td>\n",
       "      <td>64.000</td>\n",
       "      <td>4.700</td>\n",
       "    </tr>\n",
       "  </tbody>\n",
       "</table>\n",
       "</div>"
      ],
      "text/plain": [
       "        Inches  CPU_Frequency (GHz)  RAM (GB)  Weight (kg)\n",
       "count  765.000              765.000   765.000      765.000\n",
       "mean    15.101                2.320     8.630        2.076\n",
       "std      1.399                0.491     5.501        0.688\n",
       "min     10.100                0.900     2.000        0.690\n",
       "25%     14.000                2.000     4.000        1.580\n",
       "50%     15.600                2.500     8.000        2.090\n",
       "75%     15.600                2.700     8.000        2.330\n",
       "max     17.300                3.600    64.000        4.700"
      ]
     },
     "execution_count": 60,
     "metadata": {},
     "output_type": "execute_result"
    }
   ],
   "source": [
    "X_train.describe().round(3)\n"
   ]
  },
  {
   "cell_type": "code",
   "execution_count": 68,
   "id": "dc506c62-0cf6-454a-89dd-435ef2413301",
   "metadata": {},
   "outputs": [
    {
     "name": "stdout",
     "output_type": "stream",
     "text": [
      "Index(['Inches', 'CPU_Frequency (GHz)', 'RAM (GB)', 'Weight (kg)'], dtype='object')\n"
     ]
    }
   ],
   "source": [
    "numeric_features = X_train.select_dtypes(include=['number']).columns\n",
    "\n",
    "print(numeric_features)\n"
   ]
  },
  {
   "cell_type": "code",
   "execution_count": 70,
   "id": "f912a262-2d60-421c-854c-07eeaffd50f8",
   "metadata": {},
   "outputs": [
    {
     "name": "stdout",
     "output_type": "stream",
     "text": [
      "Index(['Inches', 'CPU_Frequency (GHz)', 'RAM (GB)', 'Weight (kg)'], dtype='object')\n"
     ]
    }
   ],
   "source": [
    "X_train_numeric = X_train[numeric_features]\n",
    "print(X_train_numeric.columns)"
   ]
  },
  {
   "cell_type": "code",
   "execution_count": 74,
   "id": "66724afa-673e-4dc0-b32f-587c46d94ba0",
   "metadata": {},
   "outputs": [
    {
     "name": "stdout",
     "output_type": "stream",
     "text": [
      "Computed mean of the training set: [15.10052288  2.31971242  8.63006536  2.07623268]\n",
      "Computed standard deviation of the training set: [1.39778527 0.49018542 5.49703527 0.68741758]\n"
     ]
    }
   ],
   "source": [
    "scaler= StandardScaler()\n",
    "X_train_scaled = scaler.fit_transform(X_train_numeric)\n",
    "\n",
    "print(f\"Computed mean of the training set: {scaler.mean_}\")\n",
    "print(f\"Computed standard deviation of the training set: {scaler.scale_}\")\n"
   ]
  },
  {
   "cell_type": "code",
   "execution_count": 91,
   "id": "f9639755-66cf-46d6-864e-c8ff7d87d5a4",
   "metadata": {},
   "outputs": [
    {
     "name": "stdout",
     "output_type": "stream",
     "text": [
      "[[ 0.35733466  0.36779466 -0.84228409 -0.11089719]\n",
      " [-0.78733329  0.5717991   1.34071082 -1.42014507]\n",
      " [-0.78733329 -1.06023638 -0.11461912 -0.47457716]\n",
      " ...\n",
      " [ 0.35733466  0.97980797  1.34071082 -0.40184117]\n",
      " [ 0.35733466  0.16379023 -0.47845161  0.32551876]\n",
      " [ 0.35733466 -2.48826743 -0.84228409 -0.31455797]]\n"
     ]
    }
   ],
   "source": [
    "print(X_train_scaled)"
   ]
  },
  {
   "cell_type": "code",
   "execution_count": 79,
   "id": "14637a4c-7c62-4424-b52e-5b7a4e2723e3",
   "metadata": {},
   "outputs": [
    {
     "data": {
      "text/html": [
       "<style>#sk-container-id-1 {color: black;}#sk-container-id-1 pre{padding: 0;}#sk-container-id-1 div.sk-toggleable {background-color: white;}#sk-container-id-1 label.sk-toggleable__label {cursor: pointer;display: block;width: 100%;margin-bottom: 0;padding: 0.3em;box-sizing: border-box;text-align: center;}#sk-container-id-1 label.sk-toggleable__label-arrow:before {content: \"▸\";float: left;margin-right: 0.25em;color: #696969;}#sk-container-id-1 label.sk-toggleable__label-arrow:hover:before {color: black;}#sk-container-id-1 div.sk-estimator:hover label.sk-toggleable__label-arrow:before {color: black;}#sk-container-id-1 div.sk-toggleable__content {max-height: 0;max-width: 0;overflow: hidden;text-align: left;background-color: #f0f8ff;}#sk-container-id-1 div.sk-toggleable__content pre {margin: 0.2em;color: black;border-radius: 0.25em;background-color: #f0f8ff;}#sk-container-id-1 input.sk-toggleable__control:checked~div.sk-toggleable__content {max-height: 200px;max-width: 100%;overflow: auto;}#sk-container-id-1 input.sk-toggleable__control:checked~label.sk-toggleable__label-arrow:before {content: \"▾\";}#sk-container-id-1 div.sk-estimator input.sk-toggleable__control:checked~label.sk-toggleable__label {background-color: #d4ebff;}#sk-container-id-1 div.sk-label input.sk-toggleable__control:checked~label.sk-toggleable__label {background-color: #d4ebff;}#sk-container-id-1 input.sk-hidden--visually {border: 0;clip: rect(1px 1px 1px 1px);clip: rect(1px, 1px, 1px, 1px);height: 1px;margin: -1px;overflow: hidden;padding: 0;position: absolute;width: 1px;}#sk-container-id-1 div.sk-estimator {font-family: monospace;background-color: #f0f8ff;border: 1px dotted black;border-radius: 0.25em;box-sizing: border-box;margin-bottom: 0.5em;}#sk-container-id-1 div.sk-estimator:hover {background-color: #d4ebff;}#sk-container-id-1 div.sk-parallel-item::after {content: \"\";width: 100%;border-bottom: 1px solid gray;flex-grow: 1;}#sk-container-id-1 div.sk-label:hover label.sk-toggleable__label {background-color: #d4ebff;}#sk-container-id-1 div.sk-serial::before {content: \"\";position: absolute;border-left: 1px solid gray;box-sizing: border-box;top: 0;bottom: 0;left: 50%;z-index: 0;}#sk-container-id-1 div.sk-serial {display: flex;flex-direction: column;align-items: center;background-color: white;padding-right: 0.2em;padding-left: 0.2em;position: relative;}#sk-container-id-1 div.sk-item {position: relative;z-index: 1;}#sk-container-id-1 div.sk-parallel {display: flex;align-items: stretch;justify-content: center;background-color: white;position: relative;}#sk-container-id-1 div.sk-item::before, #sk-container-id-1 div.sk-parallel-item::before {content: \"\";position: absolute;border-left: 1px solid gray;box-sizing: border-box;top: 0;bottom: 0;left: 50%;z-index: -1;}#sk-container-id-1 div.sk-parallel-item {display: flex;flex-direction: column;z-index: 1;position: relative;background-color: white;}#sk-container-id-1 div.sk-parallel-item:first-child::after {align-self: flex-end;width: 50%;}#sk-container-id-1 div.sk-parallel-item:last-child::after {align-self: flex-start;width: 50%;}#sk-container-id-1 div.sk-parallel-item:only-child::after {width: 0;}#sk-container-id-1 div.sk-dashed-wrapped {border: 1px dashed gray;margin: 0 0.4em 0.5em 0.4em;box-sizing: border-box;padding-bottom: 0.4em;background-color: white;}#sk-container-id-1 div.sk-label label {font-family: monospace;font-weight: bold;display: inline-block;line-height: 1.2em;}#sk-container-id-1 div.sk-label-container {text-align: center;}#sk-container-id-1 div.sk-container {/* jupyter's `normalize.less` sets `[hidden] { display: none; }` but bootstrap.min.css set `[hidden] { display: none !important; }` so we also need the `!important` here to be able to override the default hidden behavior on the sphinx rendered scikit-learn.org. See: https://github.com/scikit-learn/scikit-learn/issues/21755 */display: inline-block !important;position: relative;}#sk-container-id-1 div.sk-text-repr-fallback {display: none;}</style><div id=\"sk-container-id-1\" class=\"sk-top-container\"><div class=\"sk-text-repr-fallback\"><pre>LinearRegression()</pre><b>In a Jupyter environment, please rerun this cell to show the HTML representation or trust the notebook. <br />On GitHub, the HTML representation is unable to render, please try loading this page with nbviewer.org.</b></div><div class=\"sk-container\" hidden><div class=\"sk-item\"><div class=\"sk-estimator sk-toggleable\"><input class=\"sk-toggleable__control sk-hidden--visually\" id=\"sk-estimator-id-1\" type=\"checkbox\" checked><label for=\"sk-estimator-id-1\" class=\"sk-toggleable__label sk-toggleable__label-arrow\">LinearRegression</label><div class=\"sk-toggleable__content\"><pre>LinearRegression()</pre></div></div></div></div></div>"
      ],
      "text/plain": [
       "LinearRegression()"
      ]
     },
     "execution_count": 79,
     "metadata": {},
     "output_type": "execute_result"
    }
   ],
   "source": [
    "#initialize the class\n",
    "linear_model = LinearRegression()\n",
    "\n",
    "#train the model\n",
    "linear_model.fit(X_train_scaled, y_train)"
   ]
  },
  {
   "cell_type": "code",
   "execution_count": 88,
   "id": "731ca762-fd86-43f6-8b64-910fd4b221e5",
   "metadata": {},
   "outputs": [
    {
     "name": "stdout",
     "output_type": "stream",
     "text": [
      "training MSE (using sklearn function): 103489.68394597336\n",
      "training MSE (for-loop implementation): 103489.68394597348\n"
     ]
    }
   ],
   "source": [
    "#feed the scaled training set and get the predictions\n",
    "yhat = linear_model.predict(X_train_scaled)\n",
    "\n",
    "#use scikit-learn's utility function and divide by 2\n",
    "print(f\"training MSE (using sklearn function): {mean_squared_error(y_train, yhat)/2}\")\n",
    "\n",
    "#for-loop implementation\n",
    "total_squared_error = 0\n",
    "\n",
    "for i in range(len(yhat)):\n",
    "    squared_error_i = (yhat[i] - y_train[i])**2\n",
    "    total_squared_error += squared_error_i\n",
    "mse = total_squared_error / (2*len(yhat))\n",
    "\n",
    "print(f\"training MSE (for-loop implementation): {mse}\")\n"
   ]
  },
  {
   "cell_type": "code",
   "execution_count": 92,
   "id": "e0c55454-7947-4c60-9d89-60ca406aec51",
   "metadata": {},
   "outputs": [],
   "source": [
    "#in summary what I had done till the date is\n",
    "#import model and necessary functions\n",
    "import numpy as np\n",
    "import pandas as pd\n",
    "\n",
    "#import scikitlearn functions\n",
    "from sklearn.linear_model import LinearRegression\n",
    "from sklearn.model_selection import train_test_split\n",
    "from sklearn.preprocessing import StandardScaler, PolynomialFeatures\n",
    "from sklearn.metrics import mean_squared_error\n",
    "\n",
    "#import data set \n",
    "\n",
    "#visualize the dataset\n",
    "\n",
    "#split the dataset into test, train and validation segments\n",
    "\n",
    "#standardize the dataset\n",
    "\n",
    "#fit the dataset into linear model\n",
    "\n",
    "#predict the value of the dataset\n",
    "\n",
    "#calculate total error\n",
    " "
   ]
  },
  {
   "cell_type": "code",
   "execution_count": 110,
   "id": "54cb8c54-c3f1-4c40-b577-8a7cc72b57fd",
   "metadata": {},
   "outputs": [],
   "source": [
    "#first collect the numeric features of x_cv\n",
    "numeric_features = x_cv.select_dtypes(include=['number']).columns\n",
    "x_cv_scaled = x_cv[numeric_features]"
   ]
  },
  {
   "cell_type": "code",
   "execution_count": 96,
   "id": "d3e31137-e6f2-45d5-a0a0-203e1761ed5c",
   "metadata": {},
   "outputs": [
    {
     "name": "stdout",
     "output_type": "stream",
     "text": [
      "Mean used to scale the CV set: [15.10052288  2.31971242  8.63006536  2.07623268]\n",
      "standard deviation used to scale the CV set: [1.39778527 0.49018542 5.49703527 0.68741758]\n",
      "Cross validation MSE: 81496.14500961034\n"
     ]
    }
   ],
   "source": [
    "#scale the cv set using the mean and std of the training dataset\n",
    "x_cv_scaled = scaler.transform(x_cv_scaled)\n",
    "\n",
    "print(f\"Mean used to scale the CV set: {scaler.mean_}\")\n",
    "print(f\"standard deviation used to scale the CV set: {scaler.scale_}\")\n",
    "\n",
    "\n",
    "#feed the scaled cross validation set\n",
    "\n",
    "yhat = linear_model.predict(x_cv_scaled)\n",
    "\n",
    "#use scikit-learn's utility function and divide by 2\n",
    "print(f\"Cross validation MSE: {mean_squared_error(y_cv, yhat)/2}\")"
   ]
  },
  {
   "cell_type": "markdown",
   "id": "4190e850-b66e-4b3b-afce-a6d5ed35d758",
   "metadata": {},
   "source": [
    "##### Adding Polynomial Features\n"
   ]
  },
  {
   "cell_type": "code",
   "execution_count": 98,
   "id": "b03f706c-7654-4fb8-bba1-c89d4873aabb",
   "metadata": {},
   "outputs": [
    {
     "name": "stdout",
     "output_type": "stream",
     "text": [
      "[[ 0.35733466  0.36779466 -0.84228409 -0.11089719  0.12768806  0.13142578\n",
      "  -0.3009773  -0.03962741  0.13527291 -0.30978759 -0.0407874   0.70944249\n",
      "   0.09340694  0.01229819]\n",
      " [-0.78733329  0.5717991   1.34071082 -1.42014507  0.61989371 -0.45019647\n",
      "  -1.05558626  1.11812749  0.32695421  0.76661724 -0.81203767  1.79750549\n",
      "  -1.90400385  2.01681201]\n",
      " [-0.78733329 -1.06023638 -0.11461912 -0.47457716  0.61989371  0.8347594\n",
      "   0.09024345  0.3736504   1.12410119  0.12152336  0.50316397  0.01313754\n",
      "   0.05439562  0.22522348]\n",
      " [ 0.35733466  0.97980797  1.34071082  1.0528787   0.12768806  0.35011935\n",
      "   0.47908245  0.37623005  0.96002365  1.31363914  1.03161893  1.79750549\n",
      "   1.41160585  1.10855355]\n",
      " [ 0.35733466  0.36779466  1.34071082  0.61646274  0.12768806  0.13142578\n",
      "   0.47908245  0.2202835   0.13527291  0.49310628  0.2267317   1.79750549\n",
      "   0.82649826  0.38002631]]\n"
     ]
    }
   ],
   "source": [
    "#create additional features\n",
    "poly = PolynomialFeatures(degree=2, include_bias=False)\n",
    "#compute the number of features and transform the training set\n",
    "X_train_mapped = poly.fit_transform(X_train_scaled)\n",
    "\n",
    "# Preview the first 5 elements of the new training set. Left column is `x` and right column is `x^2`\n",
    "# Note: The `e+<number>` in the output denotes how many places the decimal point should \n",
    "# be moved. For example, `3.24e+03` is equal to `3240`\n",
    "\n",
    "print(X_train_mapped[:5])"
   ]
  },
  {
   "cell_type": "code",
   "execution_count": 99,
   "id": "d10c6cb7-326c-420c-a9ca-d95205afc9b5",
   "metadata": {},
   "outputs": [
    {
     "name": "stdout",
     "output_type": "stream",
     "text": [
      "[[ 0.35733466  0.36779466 -0.84228409 -0.11089719 -0.65055823 -0.13164387\n",
      "  -0.43261309 -0.70867415 -0.62783454 -0.69341118 -0.3701212  -0.0656375\n",
      "  -0.15762578 -0.46457688]\n",
      " [-0.78733329  0.5717991   1.34071082 -1.42014507 -0.28347803 -0.63226879\n",
      "  -1.03606008  0.2425162  -0.48866446  0.4522459  -1.1515325   0.18015802\n",
      "  -1.14423809  0.47826919]\n",
      " [-0.78733329 -1.06023638 -0.11461912 -0.47457716 -0.28347803  0.47374278\n",
      "  -0.11976101 -0.36913263  0.09010359 -0.23435113  0.18099658 -0.22293412\n",
      "  -0.17689525 -0.36442502]\n",
      " [ 0.35733466  0.97980797  1.34071082  1.0528787  -0.65055823  0.0565942\n",
      "   0.19118642 -0.36701323 -0.0290248   1.03446135  0.71641381  0.18015802\n",
      "   0.4934928   0.05105941]\n",
      " [ 0.35733466  0.36779466  1.34071082  0.61646274 -0.65055823 -0.13164387\n",
      "   0.19118642 -0.49513607 -0.62783454  0.16113818 -0.09907761  0.18015802\n",
      "   0.20448147 -0.29161174]]\n"
     ]
    }
   ],
   "source": [
    "#instance the class\n",
    "scaler_poly = StandardScaler()\n",
    "\n",
    "#Compute the mean and standard deviation of the training set then transform it\n",
    "X_train_mapped_scaled = scaler_poly.fit_transform(X_train_mapped)\n",
    "\n",
    "#preview the first 5 elements of the scaled training set\n",
    "print(X_train_mapped_scaled[:5])\n"
   ]
  },
  {
   "cell_type": "code",
   "execution_count": 100,
   "id": "066aa1be-62fa-4833-adb8-5e842849b60a",
   "metadata": {},
   "outputs": [
    {
     "name": "stdout",
     "output_type": "stream",
     "text": [
      "Training MSE: 82298.38775490818\n",
      "Cross validation MSE: 80615.93951003108\n"
     ]
    }
   ],
   "source": [
    "#initialize the class\n",
    "model  = LinearRegression()\n",
    "\n",
    "#train the model\n",
    "model.fit(X_train_mapped_scaled, y_train)\n",
    "\n",
    "#compute the training MSE\n",
    "yhat = model.predict(X_train_mapped_scaled)\n",
    "print(f\"Training MSE: {mean_squared_error(y_train , yhat)/2}\")\n",
    "\n",
    "#add the polynomial features to the cross validation set\n",
    "x_cv_mapped= poly.transform(x_cv_scaled)\n",
    "\n",
    "#scale the cross validation set using the mean and std of training set\n",
    "x_cv_mapped_scaled = scaler_poly.transform(x_cv_mapped)\n",
    "\n",
    "#compute the corss validation MSE\n",
    "yhat = model.predict(x_cv_mapped_scaled)\n",
    "print(f\"Cross validation MSE: {mean_squared_error(y_cv, yhat) / 2}\")\n"
   ]
  },
  {
   "cell_type": "markdown",
   "id": "5aba5ff9-7701-4b99-83b8-1247144dc965",
   "metadata": {},
   "source": [
    "##### Continuously adding degrees"
   ]
  },
  {
   "cell_type": "code",
   "execution_count": 105,
   "id": "41c4081e-80d1-4c20-b553-137715671fb5",
   "metadata": {},
   "outputs": [
    {
     "name": "stderr",
     "output_type": "stream",
     "text": [
      "/Users/tinonturjamajumder/anaconda3/lib/python3.11/site-packages/sklearn/base.py:464: UserWarning: X does not have valid feature names, but PolynomialFeatures was fitted with feature names\n",
      "  warnings.warn(\n",
      "/Users/tinonturjamajumder/anaconda3/lib/python3.11/site-packages/sklearn/base.py:464: UserWarning: X does not have valid feature names, but PolynomialFeatures was fitted with feature names\n",
      "  warnings.warn(\n",
      "/Users/tinonturjamajumder/anaconda3/lib/python3.11/site-packages/sklearn/base.py:464: UserWarning: X does not have valid feature names, but PolynomialFeatures was fitted with feature names\n",
      "  warnings.warn(\n",
      "/Users/tinonturjamajumder/anaconda3/lib/python3.11/site-packages/sklearn/base.py:464: UserWarning: X does not have valid feature names, but PolynomialFeatures was fitted with feature names\n",
      "  warnings.warn(\n",
      "/Users/tinonturjamajumder/anaconda3/lib/python3.11/site-packages/sklearn/base.py:464: UserWarning: X does not have valid feature names, but PolynomialFeatures was fitted with feature names\n",
      "  warnings.warn(\n",
      "/Users/tinonturjamajumder/anaconda3/lib/python3.11/site-packages/sklearn/base.py:464: UserWarning: X does not have valid feature names, but PolynomialFeatures was fitted with feature names\n",
      "  warnings.warn(\n",
      "/Users/tinonturjamajumder/anaconda3/lib/python3.11/site-packages/sklearn/base.py:464: UserWarning: X does not have valid feature names, but PolynomialFeatures was fitted with feature names\n",
      "  warnings.warn(\n"
     ]
    },
    {
     "name": "stdout",
     "output_type": "stream",
     "text": [
      " degree: 1 --> Train_MSE: [103489.68394597336] --> CV_MSES: 153475.98972253373\n",
      " degree: 2 --> Train_MSE: [103489.68394597336, 82298.38775490818] --> CV_MSES: 4866728.1381051885\n",
      " degree: 3 --> Train_MSE: [103489.68394597336, 82298.38775490818, 66195.25750195887] --> CV_MSES: 207839701.83168235\n",
      " degree: 4 --> Train_MSE: [103489.68394597336, 82298.38775490818, 66195.25750195887, 56850.300350820005] --> CV_MSES: 17318244384.336956\n",
      " degree: 5 --> Train_MSE: [103489.68394597336, 82298.38775490818, 66195.25750195887, 56850.300350820005, 45057.31192438235] --> CV_MSES: 7524455534286.294\n",
      " degree: 6 --> Train_MSE: [103489.68394597336, 82298.38775490818, 66195.25750195887, 56850.300350820005, 45057.31192438235, 36446.698370262166] --> CV_MSES: 3.9682476707705555e+17\n",
      " degree: 7 --> Train_MSE: [103489.68394597336, 82298.38775490818, 66195.25750195887, 56850.300350820005, 45057.31192438235, 36446.698370262166, 28557.53415989372] --> CV_MSES: 7.576147913854148e+23\n"
     ]
    },
    {
     "name": "stderr",
     "output_type": "stream",
     "text": [
      "/Users/tinonturjamajumder/anaconda3/lib/python3.11/site-packages/sklearn/base.py:464: UserWarning: X does not have valid feature names, but PolynomialFeatures was fitted with feature names\n",
      "  warnings.warn(\n"
     ]
    },
    {
     "name": "stdout",
     "output_type": "stream",
     "text": [
      " degree: 8 --> Train_MSE: [103489.68394597336, 82298.38775490818, 66195.25750195887, 56850.300350820005, 45057.31192438235, 36446.698370262166, 28557.53415989372, 21580.431629510764] --> CV_MSES: 5.09967172409131e+23\n"
     ]
    },
    {
     "name": "stderr",
     "output_type": "stream",
     "text": [
      "/Users/tinonturjamajumder/anaconda3/lib/python3.11/site-packages/sklearn/base.py:464: UserWarning: X does not have valid feature names, but PolynomialFeatures was fitted with feature names\n",
      "  warnings.warn(\n"
     ]
    },
    {
     "name": "stdout",
     "output_type": "stream",
     "text": [
      " degree: 9 --> Train_MSE: [103489.68394597336, 82298.38775490818, 66195.25750195887, 56850.300350820005, 45057.31192438235, 36446.698370262166, 28557.53415989372, 21580.431629510764, 17279.559819740603] --> CV_MSES: 9.531633969558555e+26\n",
      " degree: 10 --> Train_MSE: [103489.68394597336, 82298.38775490818, 66195.25750195887, 56850.300350820005, 45057.31192438235, 36446.698370262166, 28557.53415989372, 21580.431629510764, 17279.559819740603, 17095.88688342306] --> CV_MSES: 6.234404215046042e+28\n"
     ]
    },
    {
     "name": "stderr",
     "output_type": "stream",
     "text": [
      "/Users/tinonturjamajumder/anaconda3/lib/python3.11/site-packages/sklearn/base.py:464: UserWarning: X does not have valid feature names, but PolynomialFeatures was fitted with feature names\n",
      "  warnings.warn(\n"
     ]
    }
   ],
   "source": [
    "#initialize list to save the errors, models, and feature transforms\n",
    "train_mses = []\n",
    "cv_mses = []\n",
    "polys = []\n",
    "scalers = []\n",
    "models=[]\n",
    "\n",
    "\n",
    "#loop over 10 times. Each adding one more degree of polynomial higher than the last\n",
    "\n",
    "for degree in range(1,11):\n",
    "    #add polynomial features to the training set\n",
    "    poly = PolynomialFeatures(degree, include_bias= False)\n",
    "    X_train_mapped = poly.fit_transform(X_train_numeric)\n",
    "    polys.append(poly)\n",
    "\n",
    "\n",
    "    #scale the training set\n",
    "    scaler_poly = StandardScaler()\n",
    "    X_train_mapped_scaled = scaler_poly.fit_transform(X_train_mapped)\n",
    "    scalers.append(scaler_poly)\n",
    "\n",
    "\n",
    "    #create and train the model\n",
    "    model = LinearRegression()\n",
    "    model.fit(X_train_mapped_scaled, y_train)\n",
    "    models.append(model)\n",
    "\n",
    "    #compute the training MSE\n",
    "    yhat = model.predict (X_train_mapped_scaled)\n",
    "    train_mse = mean_squared_error(y_train, yhat)/2\n",
    "    train_mses.append(train_mse)\n",
    "\n",
    "\n",
    "    # Add polynomial features and scale the cross validation set\n",
    "    X_cv_mapped = poly.transform(x_cv_scaled)\n",
    "    X_cv_mapped_scaled = scaler_poly.transform(X_cv_mapped)\n",
    "    \n",
    "    # Compute the cross validation MSE\n",
    "    yhat = model.predict(X_cv_mapped_scaled)\n",
    "    cv_mse = mean_squared_error(y_cv, yhat) / 2\n",
    "    cv_mses.append(cv_mse)\n",
    "\n",
    "    print(f\" degree: {degree} --> Train_MSE: {train_mses} --> CV_MSES: {cv_mse}\")"
   ]
  },
  {
   "cell_type": "code",
   "execution_count": 109,
   "id": "e9af7114-1c99-4a69-9432-3a9ed0fe7cee",
   "metadata": {},
   "outputs": [
    {
     "name": "stderr",
     "output_type": "stream",
     "text": [
      "/Users/tinonturjamajumder/anaconda3/lib/python3.11/site-packages/sklearn/base.py:464: UserWarning: X does not have valid feature names, but PolynomialFeatures was fitted with feature names\n",
      "  warnings.warn(\n",
      "/Users/tinonturjamajumder/anaconda3/lib/python3.11/site-packages/sklearn/base.py:464: UserWarning: X does not have valid feature names, but PolynomialFeatures was fitted with feature names\n",
      "  warnings.warn(\n",
      "/Users/tinonturjamajumder/anaconda3/lib/python3.11/site-packages/sklearn/base.py:464: UserWarning: X does not have valid feature names, but PolynomialFeatures was fitted with feature names\n",
      "  warnings.warn(\n",
      "/Users/tinonturjamajumder/anaconda3/lib/python3.11/site-packages/sklearn/base.py:464: UserWarning: X does not have valid feature names, but PolynomialFeatures was fitted with feature names\n",
      "  warnings.warn(\n",
      "/Users/tinonturjamajumder/anaconda3/lib/python3.11/site-packages/sklearn/base.py:464: UserWarning: X does not have valid feature names, but PolynomialFeatures was fitted with feature names\n",
      "  warnings.warn(\n",
      "/Users/tinonturjamajumder/anaconda3/lib/python3.11/site-packages/sklearn/base.py:464: UserWarning: X does not have valid feature names, but PolynomialFeatures was fitted with feature names\n",
      "  warnings.warn(\n",
      "/Users/tinonturjamajumder/anaconda3/lib/python3.11/site-packages/sklearn/base.py:464: UserWarning: X does not have valid feature names, but PolynomialFeatures was fitted with feature names\n",
      "  warnings.warn(\n",
      "/Users/tinonturjamajumder/anaconda3/lib/python3.11/site-packages/sklearn/base.py:464: UserWarning: X does not have valid feature names, but PolynomialFeatures was fitted with feature names\n",
      "  warnings.warn(\n",
      "/Users/tinonturjamajumder/anaconda3/lib/python3.11/site-packages/sklearn/base.py:464: UserWarning: X does not have valid feature names, but PolynomialFeatures was fitted with feature names\n",
      "  warnings.warn(\n",
      "/Users/tinonturjamajumder/anaconda3/lib/python3.11/site-packages/sklearn/base.py:464: UserWarning: X does not have valid feature names, but PolynomialFeatures was fitted with feature names\n",
      "  warnings.warn(\n"
     ]
    },
    {
     "name": "stdout",
     "output_type": "stream",
     "text": [
      "Degree: 1, Train_MSE: 103489.6870, CV_MSE: 153377.4874\n",
      "Degree: 2, Train_MSE: 82470.6982, CV_MSE: 3860835.5006\n",
      "Degree: 3, Train_MSE: 70627.7452, CV_MSE: 1387404.9187\n",
      "Degree: 4, Train_MSE: 67690.3099, CV_MSE: 10183912.9305\n",
      "Degree: 5, Train_MSE: 65788.7869, CV_MSE: 19142232.1333\n",
      "Degree: 6, Train_MSE: 63984.3461, CV_MSE: 19637395.0718\n",
      "Degree: 7, Train_MSE: 62071.0610, CV_MSE: 12266836.9000\n",
      "Degree: 8, Train_MSE: 60087.5137, CV_MSE: 7049115.1053\n",
      "Degree: 9, Train_MSE: 58307.2902, CV_MSE: 3903888.4297\n",
      "Degree: 10, Train_MSE: 56837.6384, CV_MSE: 2442486.3914\n"
     ]
    }
   ],
   "source": [
    "#initialize lists\n",
    "train_mses = []\n",
    "cv_mses = []\n",
    "\n",
    "for degree in range(1, 11):\n",
    "    # Polynomial features\n",
    "    poly = PolynomialFeatures(degree, include_bias=False)\n",
    "    X_train_poly = poly.fit_transform(X_train_numeric)\n",
    "    X_cv_poly = poly.transform(x_cv_scaled)\n",
    "\n",
    "    # Scaling\n",
    "    scaler = StandardScaler()\n",
    "    X_train_poly_scaled = scaler.fit_transform(X_train_poly)\n",
    "    X_cv_poly_scaled = scaler.transform(X_cv_poly)\n",
    "\n",
    "    # Model with regularization\n",
    "    model = Ridge(alpha=0.1)  # Ridge or Lasso to control overfitting\n",
    "    model.fit(X_train_poly_scaled, y_train)\n",
    "\n",
    "    # Compute MSEs\n",
    "    train_mse = mean_squared_error(y_train, model.predict(X_train_poly_scaled)) / 2\n",
    "    cv_mse = mean_squared_error(y_cv, model.predict(X_cv_poly_scaled)) / 2\n",
    "\n",
    "    train_mses.append(train_mse)\n",
    "    cv_mses.append(cv_mse)\n",
    "\n",
    "    print(f\"Degree: {degree}, Train_MSE: {train_mse:.4f}, CV_MSE: {cv_mse:.4f}\")\n"
   ]
  },
  {
   "cell_type": "code",
   "execution_count": 108,
   "id": "884bfb1b-f6ae-4727-8053-7f6381c253ba",
   "metadata": {},
   "outputs": [],
   "source": [
    "from sklearn.linear_model import Ridge\n",
    "model = Ridge(alpha=1.0)  # Adjust alpha for regularization strength\n"
   ]
  },
  {
   "cell_type": "code",
   "execution_count": null,
   "id": "dd3d5e29-ed18-4b3f-add1-658f5ce95c05",
   "metadata": {},
   "outputs": [],
   "source": []
  }
 ],
 "metadata": {
  "kernelspec": {
   "display_name": "Python 3 (ipykernel)",
   "language": "python",
   "name": "python3"
  },
  "language_info": {
   "codemirror_mode": {
    "name": "ipython",
    "version": 3
   },
   "file_extension": ".py",
   "mimetype": "text/x-python",
   "name": "python",
   "nbconvert_exporter": "python",
   "pygments_lexer": "ipython3",
   "version": "3.11.5"
  }
 },
 "nbformat": 4,
 "nbformat_minor": 5
}
